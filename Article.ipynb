{
 "cells": [
  {
   "cell_type": "markdown",
   "id": "e35509a9-d025-48dc-886d-3316ebc5e675",
   "metadata": {},
   "source": [
    "# Clothes multimodal search with Scrapegraph, Jina Clip v2 and Qdrant Vector DB 👗\n",
    "\n",
    "Hi there 👋 Today we're build a small demo to search clothes from [zalando](https://zalando.com/),  directly with natural language or images. Our plan of attack is to first scrape them, embed the images using a multimodal model and then store them into a vector db so we can search!\n",
    "\n",
    "\n",
    "Scraping websites is not an easy task, most of them cannot be easily fetch with an http request and requires javascript to be loaded. If we try to make a HTTP request to zalando, we'll be blocked."
   ]
  },
  {
   "cell_type": "code",
   "execution_count": 88,
   "id": "b77b0f02-476b-4ad9-a3bd-95c76e3c95e5",
   "metadata": {},
   "outputs": [
    {
     "data": {
      "text/plain": [
       "403"
      ]
     },
     "execution_count": 88,
     "metadata": {},
     "output_type": "execute_result"
    }
   ],
   "source": [
    "import requests\n",
    "\n",
    "res = requests.get(\"https://www.zalando.it/jeans-donna\")\n",
    "# we'll get 403\n",
    "res.status_code"
   ]
  },
  {
   "cell_type": "markdown",
   "id": "c4c8f9e0-e26b-4d74-8b16-b166d57c5a3d",
   "metadata": {},
   "source": [
    "We need something smarter, [scrapegraph](https://scrapegraphai.com/) is a perfect tool for the job. It can bypass websites blockers and allow us to define a [pydantic schema](https://docs.pydantic.dev/latest/concepts/models/) to scrape the information we want. It works by loading the website, parsing it and use LLMs to fill our schema with the data within the page.\n",
    "\n",
    "Once we get the data, we need a way to creates vector to store/search. Since we want to work with images and text, we need the heavy guns. [Jina ClipV2](https://jina.ai/news/jina-clip-v2-multilingual-multimodal-embeddings-for-text-and-images/) is a wonderful open source model that can represent as vector both images and text, thus is a perfect pick for the task.\n",
    "\n",
    "Finally, we need to save our juicy vectors somewhere. [Qdrant](https://qdrant.tech/) is my go to vector database, you can self host it with [docker](https://hub.docker.com/r/qdrant/qdrant) and it comes with an handy ui. It supports different vector quantizations technics, so we can squeeze a lot of performances!\n",
    "\n",
    "So, to recap. How plan of attack looks something like\n",
    "\n",
    "![alt](./images/flow.png)\n",
    "\n",
    "1. Scrape with Scrapegraph\n",
    "2. Embed with Jina ClipV2\n",
    "3. Store with Qdrant\n",
    "\n",
    "Let's get started!"
   ]
  },
  {
   "cell_type": "markdown",
   "id": "5473bcb5-00d2-4134-8f38-30ca5423ded4",
   "metadata": {},
   "source": [
    "## Preambula\n",
    "\n",
    "We'll need a bunch of packages. I am using `uv`, so we'll stick with it. You can init your project using\n",
    "\n",
    "```\n",
    "uv init\n",
    "uv add python-dotenv scrapegraph-py==1.24.0 aiofiles sentence-transformers qdrant-client\n",
    "```\n",
    "\n",
    "Or if you prefer `pip`\n",
    "\n",
    "```\n",
    "pip install python-dotenv scrapegraph-py==1.24.0 aiofiles sentence-transformers qdrant-client\n",
    "```"
   ]
  },
  {
   "cell_type": "code",
   "execution_count": 90,
   "id": "fb1a98b8-75b9-43cd-a0b6-f6aed29c2be8",
   "metadata": {},
   "outputs": [
    {
     "name": "stdout",
     "output_type": "stream",
     "text": [
      "\u001b[2mResolved \u001b[1m158 packages\u001b[0m \u001b[2min 0.43ms\u001b[0m\u001b[0m\n",
      "\u001b[2mAudited \u001b[1m138 packages\u001b[0m \u001b[2min 0.10ms\u001b[0m\u001b[0m\n"
     ]
    },
    {
     "name": "stderr",
     "output_type": "stream",
     "text": [
      "huggingface/tokenizers: The current process just got forked, after parallelism has already been used. Disabling parallelism to avoid deadlocks...\n",
      "To disable this warning, you can either:\n",
      "\t- Avoid using `tokenizers` before the fork if possible\n",
      "\t- Explicitly set the environment variable TOKENIZERS_PARALLELISM=(true | false)\n"
     ]
    }
   ],
   "source": [
    "!uv add python-dotenv scrapegraph-py==1.24.0 aiofiles sentence-transformers qdrant-client"
   ]
  },
  {
   "cell_type": "markdown",
   "id": "5bf92da4-c74e-481b-9c71-08c7a5be2b85",
   "metadata": {},
   "source": [
    "## Scrape\n",
    "\n",
    "First thing all, head over [scrapegraph dashboard](https://dashboard.scrapegraphai.com/) and get your api key. Create a `.env` file and put it inside\n",
    "\n",
    "```\n",
    "GAI_API_KEY=\"YOUR_API_KEY\"\n",
    "```\n",
    "\n",
    "Then we can load it"
   ]
  },
  {
   "cell_type": "code",
   "execution_count": 91,
   "id": "0936f5d4-87c5-466a-a634-d5e9ad5d26e6",
   "metadata": {},
   "outputs": [
    {
     "data": {
      "text/plain": [
       "True"
      ]
     },
     "execution_count": 91,
     "metadata": {},
     "output_type": "execute_result"
    }
   ],
   "source": [
    "from dotenv import load_dotenv\n",
    "import os\n",
    "load_dotenv()\n",
    "\n",
    "SGAI_API_KEY = os.getenv(\"SGAI_API_KEY\")"
   ]
  },
  {
   "cell_type": "markdown",
   "id": "4607ec75-8517-4954-addd-656aceab5030",
   "metadata": {},
   "source": [
    "Now, we need to define the data we want. Each article/item in the website looks like:\n",
    "\n",
    "\n",
    "![alt](images/zalando-article.png)\n",
    "\n",
    "We have a brand, name, description, price, image, review etc.\n",
    "\n",
    "In order to tell scrapegraph what we want to extract, we have to define a couple of pydantic schemas. Since a page contains multiple items, we'll create an `ArticleModel`, so the single article, and `ArticlesModel` containing an array of them.\n",
    "\n",
    "We can add `description` to make sure we guide the LLM into extracting the correct info"
   ]
  },
  {
   "cell_type": "code",
   "execution_count": 92,
   "id": "b2b48a0a-1f0d-4e90-8c9c-9f233c2683d9",
   "metadata": {},
   "outputs": [],
   "source": [
    "from pydantic import BaseModel, Field\n",
    "from typing import Optional\n",
    "import asyncio\n",
    "\n",
    "\n",
    "class ArticleModel(BaseModel):\n",
    "    name: str = Field(description=\"Name of the article\")\n",
    "    brand: str = Field(description=\"Brand of the article\")\n",
    "    description: str = Field(description=\"Description of the article\")\n",
    "    price: float = Field(description=\"Price of the article\")\n",
    "    review_score: float = Field(description=\"Review score of the article, out of five.\")\n",
    "    url: str = Field(description=\"Article url\")\n",
    "    image_url: Optional[str]= Field(description=\"Article's image url\")\n",
    "\n",
    "\n",
    "class ArticlesModel(BaseModel):\n",
    "    articles: list[ArticleModel] = Field(description=\"Articles on the page, only the ones with price, review and image. Discard the others\")\n"
   ]
  },
  {
   "cell_type": "markdown",
   "id": "a40eeef1-1835-472c-9699-5250d61a674d",
   "metadata": {},
   "source": [
    "Now, the fun part. We'll store our scraped data locally into a `.jsonl` file. We'll also add a `user_prompt` to guide even further scrapegraph. Since the scraping process is heavily I/O bound, we'll use their `AsyncClient` so we can fire a lot of them at once. \n",
    "\n",
    "Let's import everything and define our variables"
   ]
  },
  {
   "cell_type": "code",
   "execution_count": 97,
   "id": "a1ab676c-747c-40b8-8c19-058b5df844ec",
   "metadata": {},
   "outputs": [],
   "source": [
    "from time import perf_counter\n",
    "# let' use async\n",
    "from scrapegraph_py import AsyncClient\n",
    "from scrapegraph_py.logger import sgai_logger\n",
    "sgai_logger.set_logging(level=\"INFO\")\n",
    "\n",
    "# let's use async to write to the file as well\n",
    "import aiofiles\n",
    "import json\n",
    "import asyncio\n",
    "import os\n",
    "\n",
    "JSON_PATH = \"scrape.jsonl\"\n",
    "# how much scraping request to fire at one\n",
    "BATCH_SIZE = 8\n",
    "# how many pages per category\n",
    "MAX_PAGES = 100\n",
    "\n",
    "# the user prompt to send to scrapegraph along the pydantic schemas\n",
    "\n",
    "user_prompt = \"\"\"Extract ONLY the articles in the page with price, review and image url. Discard all the others.\"\"\""
   ]
  },
  {
   "cell_type": "markdown",
   "id": "19c6cda2-6419-446f-afbc-109086adbe80",
   "metadata": {},
   "source": [
    "Then, bottom up. A function to save the result"
   ]
  },
  {
   "cell_type": "code",
   "execution_count": 95,
   "id": "f2d39735-f70b-411c-8236-9052551bfb67",
   "metadata": {},
   "outputs": [],
   "source": [
    "async def save(result: dict):\n",
    "    async with aiofiles.open(JSON_PATH, 'a') as f:\n",
    "        await f.write(json.dumps(result) + '\\n')"
   ]
  },
  {
   "cell_type": "markdown",
   "id": "9d719202-e03a-4716-aed2-e4a59d0b0c35",
   "metadata": {},
   "source": [
    "One to scrape"
   ]
  },
  {
   "cell_type": "code",
   "execution_count": 96,
   "id": "2c885b7f-984e-4224-bacd-4c7fe35d3235",
   "metadata": {},
   "outputs": [],
   "source": [
    "async def scrape_and_save(client: AsyncClient, url: str): \n",
    "    start = perf_counter()\n",
    "    sgai_logger.info(f\"Scraping url={url}\")\n",
    "    response = await client.smartscraper(\n",
    "                website_url=url,\n",
    "                user_prompt=user_prompt,\n",
    "                output_schema=ArticlesModel)\n",
    "    await save(response)\n",
    "    sgai_logger.info(f\"Tooked {perf_counter() - start:.2f}s\")"
   ]
  },
  {
   "cell_type": "markdown",
   "id": "46d9fed8-1c9d-456f-a71d-f0d1cd44b803",
   "metadata": {},
   "source": [
    "Finally, putting all together. We'll scrape women's jeans and t-shirt tops. We'll check first if `JSON_PATH`, if so we'll assume we had scrape already"
   ]
  },
  {
   "cell_type": "code",
   "execution_count": 98,
   "id": "285cdbb5-fa49-4fb2-afbc-3fb2f1b8f28e",
   "metadata": {
    "scrolled": true
   },
   "outputs": [],
   "source": [
    "async def main():\n",
    "    get_urls = [\n",
    "        lambda page: f\"https://www.zalando.it/jeans-donna/?p={page}\",\n",
    "        lambda page: f\"https://www.zalando.it/t-shirt-top-donna/?p={page}\"\n",
    "    ]\n",
    "    if os.path.exists(JSON_PATH):\n",
    "        sgai_logger.info(f\"jsonl file exists, assuming we had scrape already. Quitting ...\")\n",
    "        return\n",
    "    async with AsyncClient() as client:\n",
    "        for get_url in get_urls:\n",
    "            for i in range(1, MAX_PAGES + 1, BATCH_SIZE):\n",
    "                pages = list(range(i, min(i + BATCH_SIZE, MAX_PAGES + 1)))\n",
    "                tasks = [scrape_and_save(client, get_url(page)) for page in pages]\n",
    "                await asyncio.gather(*tasks)\n"
   ]
  },
  {
   "cell_type": "code",
   "execution_count": 101,
   "id": "b1411e2a-3a1e-41a5-97e4-6c96a935f7c0",
   "metadata": {},
   "outputs": [
    {
     "name": "stderr",
     "output_type": "stream",
     "text": [
      "💬 2025-09-21 11:00:49,526 jsonl file exists, assuming we had scrape already. Quitting ...\n"
     ]
    }
   ],
   "source": [
    "# we'll take some minutes\n",
    "await main()"
   ]
  },
  {
   "cell_type": "code",
   "execution_count": 80,
   "id": "56c510aa-b45b-4629-a282-b49775c1c7d7",
   "metadata": {
    "scrolled": true
   },
   "outputs": [
    {
     "data": {
      "text/plain": [
       "{'name': 'PULL&BEAR BAGGY - Jeans baggy - white',\n",
       " 'brand': 'PULL&BEAR',\n",
       " 'description': 'Cropped top bianco senza maniche abbinato a pantaloni bianchi a gamba larga, con tasche frontali e chiusura a bottone. Sandali piatti marroni con borchie.',\n",
       " 'price': 35.99,\n",
       " 'review_score': 0,\n",
       " 'url': 'https://www.zalando.it/pullandbear-jeans-bootcut-white-puc21n0rs-a11.html',\n",
       " 'image_url': 'https://img01.ztat.net/article/spp-media-p1/ff33dd220e7c4827ba1b8be760e6de7c/b9ca1dcb64b04fa98b0e0d5fa38fff14.jpg?imwidth=300'}"
      ]
     },
     "execution_count": 80,
     "metadata": {},
     "output_type": "execute_result"
    }
   ],
   "source": [
    "with open(JSON_PATH, \"r\") as f:\n",
    "    for line in f.readlines():\n",
    "        data = json.loads(line)\n",
    "        break\n",
    "\n",
    "data[\"result\"][\"articles\"][0]"
   ]
  },
  {
   "cell_type": "markdown",
   "id": "548dae44-7bd2-4f17-bd05-1bcc0fab1343",
   "metadata": {},
   "source": [
    "http://localhost:6333/dashboard#/welcome"
   ]
  },
  {
   "cell_type": "code",
   "execution_count": 49,
   "id": "f4421658-086f-4c30-afb1-afbd26e71b26",
   "metadata": {},
   "outputs": [],
   "source": [
    "def get_articles_from_disk():\n",
    "    with open(JSON_PATH, \"r\") as f:\n",
    "        for line in f.readlines():\n",
    "            data = json.loads(line)\n",
    "            yield data[\"result\"][\"articles\"]\n",
    "\n",
    "articles_gen = get_articles_from_disk()"
   ]
  },
  {
   "cell_type": "code",
   "execution_count": 81,
   "id": "77c0269f-7dc0-4cb5-9c9e-098c2938bc5e",
   "metadata": {},
   "outputs": [
    {
     "name": "stderr",
     "output_type": "stream",
     "text": [
      "/Users/francescozuppichini/.cache/huggingface/modules/transformers_modules/jinaai/jina-clip-implementation/39e6a55ae971b59bea6e44675d237c99762e7ee2/modeling_clip.py:137: UserWarning: Flash attention requires CUDA, disabling\n",
      "  warnings.warn('Flash attention requires CUDA, disabling')\n",
      "/Users/francescozuppichini/.cache/huggingface/modules/transformers_modules/jinaai/jina-clip-implementation/39e6a55ae971b59bea6e44675d237c99762e7ee2/modeling_clip.py:172: UserWarning: xFormers requires CUDA, disabling\n",
      "  warnings.warn('xFormers requires CUDA, disabling')\n"
     ]
    }
   ],
   "source": [
    "from sentence_transformers import SentenceTransformer\n",
    "\n",
    "# Choose a matryoshka dimension\n",
    "EMBEDDING_SIZE = 512\n",
    "\n",
    "# Initialize the model\n",
    "model = SentenceTransformer(\n",
    "    \"jinaai/jina-clip-v2\", trust_remote_code=True, truncate_dim=EMBEDDING_SIZE\n",
    ")\n",
    "\n"
   ]
  },
  {
   "cell_type": "code",
   "execution_count": 82,
   "id": "03c8a7ce-5b1f-454f-95d6-e3aca82d1969",
   "metadata": {},
   "outputs": [
    {
     "data": {
      "text/plain": [
       "array([-1.28987029e-01,  1.39657214e-01, -1.31025478e-01,  9.68374386e-02,\n",
       "       -2.69599911e-02,  4.83107083e-02, -1.53913930e-01,  1.22468648e-02,\n",
       "       -1.03504017e-01,  5.69794662e-02, -9.76331085e-02, -3.51643823e-02,\n",
       "       -5.69246598e-02, -2.31039617e-03, -6.89019784e-02,  2.16930825e-02,\n",
       "        1.19779579e-01,  2.22846001e-01,  1.75678268e-01, -4.91316523e-03,\n",
       "       -1.80066481e-01,  4.29708622e-02,  5.84954470e-02, -6.49221167e-02,\n",
       "        1.27607718e-01, -1.78001001e-01, -1.01392306e-01,  9.52235460e-02,\n",
       "       -3.21293138e-02,  1.77865714e-01, -4.00542766e-02, -1.70831531e-02,\n",
       "        8.89032148e-03, -9.91963074e-02, -9.23199654e-02,  7.11153671e-02,\n",
       "       -1.20687401e-02,  4.08993065e-02, -9.51866899e-03,  7.04408735e-02,\n",
       "        6.54054433e-02,  1.05399072e-01, -1.37217818e-02, -1.09636031e-01,\n",
       "       -2.46394686e-02,  1.02678955e-01, -7.89565668e-02, -1.83367297e-01,\n",
       "        6.84156939e-02, -8.01245421e-02, -5.04700560e-03, -2.22889017e-02,\n",
       "        2.15363712e-03, -1.62037224e-01,  9.34924036e-02,  8.47819969e-02,\n",
       "        1.67917740e-02, -4.29525562e-02, -1.25017419e-01, -1.27710491e-01,\n",
       "       -1.68607876e-01,  6.55193254e-02, -8.37486461e-02, -1.52683049e-01,\n",
       "       -1.62376799e-02, -2.15813089e-02,  5.73303290e-02, -2.84652021e-02,\n",
       "       -3.78933139e-02, -2.97732186e-05,  2.86577363e-02, -1.78012326e-02,\n",
       "        2.70401798e-02,  2.09431667e-02, -4.53387238e-02,  7.65963923e-03,\n",
       "        4.52661961e-02, -3.62383462e-02, -8.05306807e-03,  2.61675343e-02,\n",
       "       -2.68007498e-02, -7.13732233e-03, -1.26410732e-02, -1.56600289e-02,\n",
       "       -2.01297868e-02, -6.00496009e-02, -4.58216257e-02, -2.80078836e-02,\n",
       "       -6.35363236e-02,  2.33100192e-03, -6.26175851e-03, -8.05621296e-02,\n",
       "       -6.97431415e-02, -8.04251283e-02, -1.43667422e-02,  2.08357368e-02,\n",
       "       -1.97165012e-02,  3.04720849e-02,  9.53041539e-02,  3.65369841e-02,\n",
       "        1.25270458e-02, -3.28157395e-02,  5.13329618e-02,  3.56393531e-02,\n",
       "       -7.20405579e-02,  2.23730933e-02,  3.25568803e-02,  2.71140542e-02,\n",
       "        2.08455548e-02,  9.78422761e-02, -4.28501777e-02,  1.86909512e-02,\n",
       "        6.18211599e-03, -1.08768176e-02,  2.17024386e-02, -3.74372554e-04,\n",
       "        5.53652309e-02,  5.48505746e-02, -2.28793193e-02, -3.30527537e-02,\n",
       "       -2.10682247e-02, -1.17650060e-02,  6.05375618e-02,  6.69310838e-02,\n",
       "       -6.08977163e-03,  5.18552177e-02,  1.92951877e-02, -2.03540716e-02,\n",
       "        1.55774951e-02,  3.65447719e-03, -4.11259085e-02,  4.23703855e-03,\n",
       "       -3.26491054e-03,  3.52489054e-02, -1.23932287e-02, -2.39456967e-02,\n",
       "        1.12959873e-02,  1.09654851e-02,  4.69457768e-02, -1.34571176e-02,\n",
       "       -2.72310749e-02, -1.86729617e-02, -9.83421784e-03,  5.55151468e-03,\n",
       "       -5.62397838e-02, -1.28053529e-02,  6.08471744e-02,  1.66291837e-02,\n",
       "       -1.43584637e-02,  5.61603680e-02,  2.19977349e-02, -1.73637662e-02,\n",
       "       -2.34883185e-02, -8.00752491e-02, -2.46524196e-02,  1.10227671e-02,\n",
       "       -3.47674750e-02, -3.01360735e-03,  1.06507936e-03, -2.73571946e-02,\n",
       "       -2.52492074e-02, -1.47266444e-02,  6.42754883e-02, -1.79838687e-02,\n",
       "        1.48834456e-02,  1.97659968e-03, -2.09921990e-02,  3.41996527e-03,\n",
       "       -3.04897502e-03,  4.13777716e-02,  1.60304625e-02, -1.05788521e-02,\n",
       "        4.26515378e-02, -4.46713064e-03,  3.43492255e-02,  8.69649723e-02,\n",
       "       -3.26562263e-02,  9.67882276e-02, -3.87953431e-03,  1.65517963e-02,\n",
       "        1.74461596e-03, -3.18843238e-02, -3.56983282e-02,  4.39002998e-02,\n",
       "       -8.43935087e-03,  2.21080799e-02,  2.83649322e-02,  5.76924440e-03,\n",
       "        1.14007540e-01, -2.03080545e-03, -1.47513319e-02, -9.59822815e-03,\n",
       "       -4.27222904e-03, -2.08014413e-03, -1.38488496e-02,  2.45115394e-03,\n",
       "       -4.44454551e-02, -2.78110262e-02,  2.28789989e-02, -4.89398604e-03,\n",
       "        2.79045105e-02, -1.53180175e-02,  2.43159197e-02,  3.21118310e-02,\n",
       "        9.85434186e-03, -5.26735298e-02,  2.36267839e-02, -9.44973622e-03,\n",
       "        3.05060595e-02,  4.52584475e-02, -3.00579071e-02,  4.78774160e-02,\n",
       "        5.47868907e-02,  3.16633028e-03,  5.65794238e-04, -3.00387871e-02,\n",
       "        4.90459837e-02,  3.00505664e-02, -4.02997583e-02,  1.20060472e-02,\n",
       "        1.51142040e-02, -6.93870112e-02,  1.91305447e-02, -5.16750254e-02,\n",
       "       -6.06709272e-02,  3.24758254e-02,  1.54941780e-02,  2.35453099e-02,\n",
       "       -5.48696099e-03, -2.87067816e-02, -3.69542465e-02, -2.67875232e-02,\n",
       "        5.70323691e-03,  9.62464197e-04, -7.50557557e-02,  3.22863413e-03,\n",
       "       -7.22009176e-03,  2.63401549e-02, -1.49141680e-02, -1.05805006e-02,\n",
       "       -3.29424180e-02, -6.57892078e-02,  7.62156537e-03, -1.71605386e-02,\n",
       "       -8.20157211e-03, -4.30409377e-03, -1.45194037e-02, -2.00686082e-02,\n",
       "       -2.27869693e-02, -7.40929097e-02, -2.94845868e-02,  1.08537478e-02,\n",
       "        1.15128532e-02,  2.06232890e-02,  1.53072774e-02, -4.41003144e-02,\n",
       "       -6.36215648e-03,  2.91484781e-03,  2.61627715e-02,  5.16414121e-02,\n",
       "       -9.32857115e-03, -3.90195940e-03,  1.50778759e-02,  3.05267181e-02,\n",
       "       -4.49359138e-03,  3.19181420e-02, -4.11877371e-02,  3.01791299e-02,\n",
       "       -7.52945151e-03,  7.22184358e-03,  1.49289714e-02, -5.21209266e-04,\n",
       "        1.06493467e-02,  4.27918620e-02,  9.02528875e-03, -2.49420740e-02,\n",
       "        3.20278928e-02, -1.54346554e-02,  2.21118331e-02,  1.28586115e-02,\n",
       "        3.49743804e-03,  6.74700271e-03, -5.39740874e-03, -1.51293939e-02,\n",
       "       -5.28733097e-02, -1.14575704e-03,  2.71367934e-02,  3.03356107e-02,\n",
       "       -3.24994442e-03,  1.52574452e-02,  2.93903914e-03, -2.85602156e-02,\n",
       "       -9.84232500e-03, -2.05147471e-02,  1.44189951e-04, -2.70025874e-03,\n",
       "       -6.60528662e-03, -9.07901451e-02,  3.22316103e-02, -9.61277541e-03,\n",
       "       -1.15660876e-02, -4.35088165e-02, -6.05397439e-03,  5.33558168e-02,\n",
       "        3.46818008e-02, -5.45269996e-03, -3.38034797e-03,  7.85942301e-02,\n",
       "        4.24579605e-02,  2.55770683e-02, -1.46948909e-02, -3.73485275e-02,\n",
       "       -1.20555162e-02, -2.91119199e-02, -2.69568600e-02,  3.77742909e-02,\n",
       "        7.48060585e-04, -1.34691456e-02,  1.87906697e-02,  1.77152455e-02,\n",
       "       -1.50771057e-02,  1.99335671e-04,  4.38174158e-02, -3.88370529e-02,\n",
       "        1.58732233e-03,  1.78821962e-02, -1.77353993e-02, -3.53969331e-03,\n",
       "        1.37665616e-02,  1.67396739e-02, -1.17535768e-02,  2.46294718e-02,\n",
       "        2.03049816e-02, -2.01109704e-02, -3.15122344e-02, -1.10018449e-02,\n",
       "       -9.43703111e-03,  1.31515451e-02, -2.59186961e-02, -2.13333778e-02,\n",
       "        3.33848782e-02,  1.33030256e-02,  3.66065204e-02,  3.55239809e-02,\n",
       "        4.86846501e-03, -4.40461241e-04, -6.35098759e-03, -6.82904269e-04,\n",
       "       -1.66746173e-02, -2.90177744e-02,  1.66908633e-02,  3.08433804e-03,\n",
       "        1.67709701e-02, -2.92784907e-02,  1.74782835e-02, -9.08141863e-03,\n",
       "        1.53289931e-02,  6.38535013e-03, -3.58237699e-02,  3.76590006e-02,\n",
       "       -3.88967246e-02,  4.38992260e-03,  4.94112866e-03, -1.50474953e-02,\n",
       "       -7.75877095e-04, -1.08080907e-02,  3.02314223e-03,  1.92476008e-02,\n",
       "       -1.78841613e-02,  1.18174460e-02,  2.30884664e-02,  3.04588266e-02,\n",
       "        1.60447210e-02,  7.46671390e-03,  1.52604666e-03,  2.50459602e-03,\n",
       "       -4.70292233e-02,  2.28686742e-02,  2.07590815e-02, -3.69345956e-02,\n",
       "       -1.62482238e-03, -3.27493697e-02, -1.20162899e-02,  1.29800560e-02,\n",
       "       -1.52034676e-02, -2.70972587e-02,  4.80984617e-03,  7.47231767e-03,\n",
       "       -2.84027737e-02, -5.71857300e-03,  2.80331019e-02,  2.03007367e-02,\n",
       "        2.80371830e-02,  2.70049870e-02,  1.05601912e-02, -3.47370207e-02,\n",
       "       -2.77592428e-02, -1.08251600e-02, -2.47496292e-02, -6.22502016e-03,\n",
       "        2.17245147e-03,  3.49364802e-03,  2.87069157e-02, -2.43506804e-02,\n",
       "        1.89235378e-02,  9.29362886e-03,  2.24473514e-02,  7.20773358e-03,\n",
       "        3.50164101e-02,  1.42503041e-03, -3.81125067e-03,  1.90884322e-02,\n",
       "        2.30348986e-02,  7.93611724e-03, -1.61628034e-02, -9.98706091e-04,\n",
       "       -3.18791643e-02,  3.45486104e-02,  3.96278724e-02, -2.97809504e-02,\n",
       "       -4.40255553e-02,  1.47772152e-02,  2.61718966e-02, -7.14233983e-03,\n",
       "       -3.60460393e-03,  1.09489420e-02,  1.51581764e-02,  2.70603434e-03,\n",
       "       -8.69344175e-03, -1.01290718e-02, -3.64055322e-03,  2.78800493e-04,\n",
       "       -4.72930772e-03,  1.28761157e-02,  1.09231053e-03, -6.62055681e-04,\n",
       "       -1.25629483e-02, -1.34996185e-03, -9.93485376e-03,  2.25969125e-03,\n",
       "       -3.49496566e-02,  4.74960078e-03, -2.48665847e-02, -2.08843406e-02,\n",
       "       -1.46285994e-02,  1.82828158e-02,  2.17346139e-02, -2.04865672e-02,\n",
       "        1.07839582e-02,  1.40358713e-02,  2.70608738e-02,  7.85174686e-03,\n",
       "       -3.52975093e-02, -3.99728753e-02, -3.64604071e-02,  3.73716257e-03,\n",
       "        1.42047694e-02, -1.07307434e-02, -1.03923557e-02,  3.68586415e-03,\n",
       "       -1.99752208e-02,  2.28602216e-02, -8.67396779e-03,  1.17468499e-02,\n",
       "        2.15333328e-02,  1.95942400e-03, -7.89217744e-03,  3.50207649e-02,\n",
       "        2.62970403e-02,  6.87311776e-03,  3.12094297e-02, -4.44042590e-03,\n",
       "       -2.15046369e-02, -2.54708491e-02,  2.73139887e-02, -4.13226224e-02,\n",
       "        2.88780895e-03,  1.31240359e-03, -3.34711596e-02,  1.58027746e-02,\n",
       "        4.15281355e-02, -4.59471196e-02,  5.44677256e-03,  1.07163684e-02,\n",
       "        4.29623201e-02, -2.65668202e-02,  1.02258092e-02, -7.47168995e-03,\n",
       "        1.21610137e-02,  2.56306194e-02,  5.42823598e-02,  1.38671910e-02,\n",
       "        2.39236485e-02, -7.52372714e-03,  3.73996096e-03, -4.10731584e-02,\n",
       "       -2.13998444e-02,  2.56346725e-02, -9.15559102e-03,  9.72891320e-03,\n",
       "       -4.49916394e-03,  9.50630102e-03,  3.79957585e-03, -1.22694112e-02,\n",
       "        9.76601802e-03,  1.32601643e-02,  1.03486115e-02, -1.42204920e-02,\n",
       "        2.20500361e-02,  5.75512939e-04, -1.53114507e-02, -1.50053510e-02],\n",
       "      dtype=float32)"
      ]
     },
     "execution_count": 82,
     "metadata": {},
     "output_type": "execute_result"
    }
   ],
   "source": [
    "image_embeddings = model.encode(data[\"result\"][\"articles\"][0][\"image_url\"], normalize_embeddings=True)\n",
    "\n",
    "image_embeddings"
   ]
  },
  {
   "cell_type": "code",
   "execution_count": 61,
   "id": "c26e6854-916a-4e27-bb2c-b1c5cedadbf9",
   "metadata": {},
   "outputs": [],
   "source": [
    "QDRANT_COLLECTION_NAME = \"clothes\"\n",
    "QDRANT_URL = \"http://localhost:6333\"\n",
    "\n",
    "\n",
    "from qdrant_client import QdrantClient, models\n",
    "import numpy as np\n",
    "import asyncio\n",
    "\n",
    "\n",
    "client = QdrantClient(url=QDRANT_URL)\n",
    "\n",
    "if not client.collection_exists(QDRANT_COLLECTION_NAME):\n",
    "    print(f\"{QDRANT_COLLECTION_NAME} created!\")\n",
    "    client.create_collection(\n",
    "        collection_name=QDRANT_COLLECTION_NAME,\n",
    "        vectors_config=models.VectorParams(\n",
    "            size=EMBEDDING_SIZE, distance=models.Distance.COSINE, on_disk=True\n",
    "        ),\n",
    "        quantization_config=models.ScalarQuantization(\n",
    "            scalar=models.ScalarQuantizationConfig(\n",
    "                type=models.ScalarType.INT8,\n",
    "                quantile=0.99,\n",
    "                always_ram=True,\n",
    "            ),\n",
    "        ),\n",
    "    )"
   ]
  },
  {
   "cell_type": "code",
   "execution_count": 62,
   "id": "bc9fc43f-7233-4778-a5ac-1bdf1932e4e1",
   "metadata": {
    "scrolled": true
   },
   "outputs": [
    {
     "name": "stderr",
     "output_type": "stream",
     "text": [
      "Article Collections: 0it [00:00, ?it/s]\n",
      "Processing Batches:   0%|                                                                                                         | 0/4 [00:00<?, ?it/s]\u001b[A\n",
      "Processing Batches:  25%|████████████████████████▎                                                                        | 1/4 [00:05<00:15,  5.22s/it]\u001b[A\n",
      "Processing Batches:  50%|████████████████████████████████████████████████▌                                                | 2/4 [00:09<00:09,  4.80s/it]\u001b[A\n",
      "Processing Batches:  75%|████████████████████████████████████████████████████████████████████████▊                        | 3/4 [00:14<00:04,  4.92s/it]\u001b[A\n",
      "Processing Batches: 100%|█████████████████████████████████████████████████████████████████████████████████████████████████| 4/4 [00:17<00:00,  4.17s/it]\u001b[A\n",
      "Article Collections: 1it [00:17, 17.82s/it]                                                                                                             \u001b[A\n",
      "Processing Batches:   0%|                                                                                                         | 0/5 [00:00<?, ?it/s]\u001b[A\n",
      "Processing Batches:  20%|███████████████████▍                                                                             | 1/5 [00:04<00:19,  4.85s/it]\u001b[A\n",
      "Processing Batches:  40%|██████████████████████████████████████▊                                                          | 2/5 [00:09<00:13,  4.65s/it]\u001b[A\n",
      "Processing Batches:  60%|██████████████████████████████████████████████████████████▏                                      | 3/5 [00:13<00:09,  4.54s/it]\u001b[A\n",
      "Processing Batches:  80%|█████████████████████████████████████████████████████████████████████████████▌                   | 4/5 [00:18<00:04,  4.48s/it]\u001b[A\n",
      "Processing Batches: 100%|█████████████████████████████████████████████████████████████████████████████████████████████████| 5/5 [00:20<00:00,  3.56s/it]\u001b[A\n",
      "Article Collections: 2it [00:37, 19.14s/it]                                                                                                             \u001b[A\n",
      "Processing Batches:   0%|                                                                                                         | 0/3 [00:00<?, ?it/s]\u001b[A\n",
      "Processing Batches:  33%|████████████████████████████████▎                                                                | 1/3 [00:04<00:08,  4.44s/it]\u001b[A\n",
      "Processing Batches:  67%|████████████████████████████████████████████████████████████████▋                                | 2/3 [00:09<00:04,  4.69s/it]\u001b[A\n",
      "Processing Batches: 100%|█████████████████████████████████████████████████████████████████████████████████████████████████| 3/3 [00:14<00:00,  4.70s/it]\u001b[A\n",
      "Article Collections: 3it [00:51, 16.81s/it]                                                                                                             \u001b[A\n",
      "Processing Batches:   0%|                                                                                                         | 0/4 [00:00<?, ?it/s]\u001b[A\n",
      "Processing Batches:  25%|████████████████████████▎                                                                        | 1/4 [00:05<00:16,  5.52s/it]\u001b[A\n",
      "Processing Batches:  50%|████████████████████████████████████████████████▌                                                | 2/4 [00:11<00:12,  6.06s/it]\u001b[A\n",
      "Processing Batches:  75%|████████████████████████████████████████████████████████████████████████▊                        | 3/4 [00:17<00:05,  5.81s/it]\u001b[A\n",
      "Processing Batches: 100%|█████████████████████████████████████████████████████████████████████████████████████████████████| 4/4 [00:22<00:00,  5.44s/it]\u001b[A\n",
      "Article Collections: 4it [01:14, 18.99s/it]                                                                                                             \u001b[A\n",
      "Processing Batches:   0%|                                                                                                         | 0/5 [00:00<?, ?it/s]\u001b[A\n",
      "Processing Batches:  20%|███████████████████▍                                                                             | 1/5 [00:04<00:17,  4.37s/it]\u001b[A\n",
      "Processing Batches:  40%|██████████████████████████████████████▊                                                          | 2/5 [00:08<00:13,  4.43s/it]\u001b[A\n",
      "Processing Batches:  60%|██████████████████████████████████████████████████████████▏                                      | 3/5 [00:14<00:09,  4.82s/it]\u001b[A\n",
      "Processing Batches:  80%|█████████████████████████████████████████████████████████████████████████████▌                   | 4/5 [00:18<00:04,  4.71s/it]\u001b[A\n",
      "Processing Batches: 100%|█████████████████████████████████████████████████████████████████████████████████████████████████| 5/5 [00:19<00:00,  3.38s/it]\u001b[A\n",
      "Article Collections: 5it [01:33, 19.25s/it]                                                                                                             \u001b[A\n",
      "Processing Batches:   0%|                                                                                                         | 0/4 [00:00<?, ?it/s]\u001b[A\n",
      "Processing Batches:  25%|████████████████████████▎                                                                        | 1/4 [00:04<00:13,  4.50s/it]\u001b[A\n",
      "Processing Batches:  50%|████████████████████████████████████████████████▌                                                | 2/4 [00:09<00:09,  4.57s/it]\u001b[A\n",
      "Processing Batches:  75%|████████████████████████████████████████████████████████████████████████▊                        | 3/4 [00:13<00:04,  4.60s/it]\u001b[A\n",
      "Processing Batches: 100%|█████████████████████████████████████████████████████████████████████████████████████████████████| 4/4 [00:14<00:00,  3.01s/it]\u001b[A\n",
      "Article Collections: 6it [01:48, 17.58s/it]                                                                                                             \u001b[A\n",
      "Processing Batches:   0%|                                                                                                         | 0/4 [00:00<?, ?it/s]\u001b[A\n",
      "Processing Batches:  25%|████████████████████████▎                                                                        | 1/4 [00:04<00:13,  4.61s/it]\u001b[A\n",
      "Processing Batches:  50%|████████████████████████████████████████████████▌                                                | 2/4 [00:09<00:09,  4.58s/it]\u001b[A\n",
      "Processing Batches:  75%|████████████████████████████████████████████████████████████████████████▊                        | 3/4 [00:15<00:05,  5.47s/it]\u001b[A\n",
      "Processing Batches: 100%|█████████████████████████████████████████████████████████████████████████████████████████████████| 4/4 [00:18<00:00,  4.53s/it]\u001b[A\n",
      "Article Collections: 7it [02:07, 17.97s/it]                                                                                                             \u001b[A\n",
      "Processing Batches:   0%|                                                                                                         | 0/4 [00:00<?, ?it/s]\u001b[A\n",
      "Processing Batches:  25%|████████████████████████▎                                                                        | 1/4 [00:05<00:15,  5.02s/it]\u001b[A\n",
      "Processing Batches:  50%|████████████████████████████████████████████████▌                                                | 2/4 [00:09<00:09,  4.82s/it]\u001b[A\n",
      "Processing Batches:  75%|████████████████████████████████████████████████████████████████████████▊                        | 3/4 [00:15<00:05,  5.43s/it]\u001b[A\n",
      "Processing Batches: 100%|█████████████████████████████████████████████████████████████████████████████████████████████████| 4/4 [00:17<00:00,  3.85s/it]\u001b[A\n",
      "Article Collections: 8it [02:24, 17.75s/it]                                                                                                             \u001b[A\n",
      "Processing Batches:   0%|                                                                                                         | 0/3 [00:00<?, ?it/s]\u001b[A\n",
      "Processing Batches:  33%|████████████████████████████████▎                                                                | 1/3 [00:04<00:08,  4.33s/it]\u001b[A\n",
      "Article Collections: 8it [02:32, 19.07s/it]                                                                                                             \u001b[A\n"
     ]
    },
    {
     "ename": "IndexError",
     "evalue": "list index out of range",
     "output_type": "error",
     "traceback": [
      "\u001b[31m---------------------------------------------------------------------------\u001b[39m",
      "\u001b[31mIndexError\u001b[39m                                Traceback (most recent call last)",
      "\u001b[36mCell\u001b[39m\u001b[36m \u001b[39m\u001b[32mIn[62]\u001b[39m\u001b[32m, line 32\u001b[39m\n\u001b[32m     30\u001b[39m \u001b[38;5;28;01mfor\u001b[39;00m i \u001b[38;5;129;01min\u001b[39;00m pbar_batches:\n\u001b[32m     31\u001b[39m     batch = articles[i:i + BATCH_SIZE]\n\u001b[32m---> \u001b[39m\u001b[32m32\u001b[39m     embeddings = \u001b[43membed_articles\u001b[49m\u001b[43m(\u001b[49m\u001b[43mbatch\u001b[49m\u001b[43m)\u001b[49m\n\u001b[32m     33\u001b[39m     insert_articles_in_db(batch, embeddings)        \n",
      "\u001b[36mCell\u001b[39m\u001b[36m \u001b[39m\u001b[32mIn[62]\u001b[39m\u001b[32m, line 7\u001b[39m, in \u001b[36membed_articles\u001b[39m\u001b[34m(data)\u001b[39m\n\u001b[32m      5\u001b[39m \u001b[38;5;28;01mdef\u001b[39;00m\u001b[38;5;250m \u001b[39m\u001b[34membed_articles\u001b[39m(data):\n\u001b[32m      6\u001b[39m     image_urls = [el[\u001b[33m\"\u001b[39m\u001b[33mimage_url\u001b[39m\u001b[33m\"\u001b[39m] \u001b[38;5;28;01mfor\u001b[39;00m el \u001b[38;5;129;01min\u001b[39;00m batch]\n\u001b[32m----> \u001b[39m\u001b[32m7\u001b[39m     image_embeddings = \u001b[43mmodel\u001b[49m\u001b[43m.\u001b[49m\u001b[43mencode\u001b[49m\u001b[43m(\u001b[49m\n\u001b[32m      8\u001b[39m \u001b[43m            \u001b[49m\u001b[43mimage_urls\u001b[49m\u001b[43m,\u001b[49m\u001b[43m \u001b[49m\u001b[43mnormalize_embeddings\u001b[49m\u001b[43m=\u001b[49m\u001b[38;5;28;43;01mTrue\u001b[39;49;00m\n\u001b[32m      9\u001b[39m \u001b[43m        \u001b[49m\u001b[43m)\u001b[49m\n\u001b[32m     10\u001b[39m     \u001b[38;5;28;01mreturn\u001b[39;00m image_embeddings\n",
      "\u001b[36mFile \u001b[39m\u001b[32m~/Documents/scrapegraph-qdrant-article/.venv/lib/python3.13/site-packages/torch/utils/_contextlib.py:120\u001b[39m, in \u001b[36mcontext_decorator.<locals>.decorate_context\u001b[39m\u001b[34m(*args, **kwargs)\u001b[39m\n\u001b[32m    117\u001b[39m \u001b[38;5;129m@functools\u001b[39m.wraps(func)\n\u001b[32m    118\u001b[39m \u001b[38;5;28;01mdef\u001b[39;00m\u001b[38;5;250m \u001b[39m\u001b[34mdecorate_context\u001b[39m(*args, **kwargs):\n\u001b[32m    119\u001b[39m     \u001b[38;5;28;01mwith\u001b[39;00m ctx_factory():\n\u001b[32m--> \u001b[39m\u001b[32m120\u001b[39m         \u001b[38;5;28;01mreturn\u001b[39;00m \u001b[43mfunc\u001b[49m\u001b[43m(\u001b[49m\u001b[43m*\u001b[49m\u001b[43margs\u001b[49m\u001b[43m,\u001b[49m\u001b[43m \u001b[49m\u001b[43m*\u001b[49m\u001b[43m*\u001b[49m\u001b[43mkwargs\u001b[49m\u001b[43m)\u001b[49m\n",
      "\u001b[36mFile \u001b[39m\u001b[32m~/Documents/scrapegraph-qdrant-article/.venv/lib/python3.13/site-packages/sentence_transformers/SentenceTransformer.py:1091\u001b[39m, in \u001b[36mSentenceTransformer.encode\u001b[39m\u001b[34m(self, sentences, prompt_name, prompt, batch_size, show_progress_bar, output_value, precision, convert_to_numpy, convert_to_tensor, device, normalize_embeddings, truncate_dim, pool, chunk_size, **kwargs)\u001b[39m\n\u001b[32m   1087\u001b[39m                 embeddings = embeddings.cpu()\n\u001b[32m   1089\u001b[39m         all_embeddings.extend(embeddings)\n\u001b[32m-> \u001b[39m\u001b[32m1091\u001b[39m all_embeddings = [\u001b[43mall_embeddings\u001b[49m\u001b[43m[\u001b[49m\u001b[43midx\u001b[49m\u001b[43m]\u001b[49m \u001b[38;5;28;01mfor\u001b[39;00m idx \u001b[38;5;129;01min\u001b[39;00m np.argsort(length_sorted_idx)]\n\u001b[32m   1093\u001b[39m \u001b[38;5;28;01mif\u001b[39;00m all_embeddings \u001b[38;5;129;01mand\u001b[39;00m precision \u001b[38;5;129;01mand\u001b[39;00m precision != \u001b[33m\"\u001b[39m\u001b[33mfloat32\u001b[39m\u001b[33m\"\u001b[39m:\n\u001b[32m   1094\u001b[39m     all_embeddings = quantize_embeddings(all_embeddings, precision=precision)\n",
      "\u001b[31mIndexError\u001b[39m: list index out of range"
     ]
    }
   ],
   "source": [
    "BATCH_SIZE = 8\n",
    "import uuid\n",
    "from tqdm.autonotebook import tqdm\n",
    "\n",
    "def embed_articles(data):\n",
    "    image_urls = [el[\"image_url\"] for el in batch]\n",
    "    image_embeddings = model.encode(\n",
    "            image_urls, normalize_embeddings=True\n",
    "        )\n",
    "    return image_embeddings\n",
    "\n",
    "def insert_articles_in_db(batch, embeddings):\n",
    "    client.upsert(\n",
    "        collection_name=QDRANT_COLLECTION_NAME,\n",
    "        points=[\n",
    "            models.PointStruct(\n",
    "                id=str(uuid.uuid4()),\n",
    "                vector=vector,\n",
    "                payload=payload\n",
    "            )\n",
    "            for payload, vector in zip(batch, embeddings)\n",
    "        ],\n",
    "    )\n",
    "    \n",
    "\n",
    "with tqdm(articles_gen, desc=\"Article Collections\", position=0) as pbar_collections:\n",
    "    for articles in pbar_collections:\n",
    "        batches = list(range(0, len(articles), BATCH_SIZE))\n",
    "        with tqdm(batches, desc=\"Processing Batches\", position=1, leave=False) as pbar_batches:\n",
    "            for i in pbar_batches:\n",
    "                batch = articles[i:i + BATCH_SIZE]\n",
    "                embeddings = embed_articles(batch)\n",
    "                insert_articles_in_db(batch, embeddings)        "
   ]
  },
  {
   "cell_type": "code",
   "execution_count": 71,
   "id": "91f52e84-02ba-49f6-a017-66a02568be01",
   "metadata": {},
   "outputs": [
    {
     "name": "stderr",
     "output_type": "stream",
     "text": [
      "/var/folders/_t/kq5v2mjs6c90llk5bdqhgndc0000gn/T/ipykernel_6181/93977268.py:11: DeprecationWarning: `search` method is deprecated and will be removed in the future. Use `query_points` instead.\n",
      "  res = client.search(\n"
     ]
    }
   ],
   "source": [
    "query = 't-shirt black' # English\n",
    "# query_embeddings = model.encode(\n",
    "#     query, prompt_name='retrieval.query', normalize_embeddings=True\n",
    "    \n",
    "# )  \n",
    "\n",
    "query_embeddings = model.encode(\n",
    "            \"https://d1fufvy4xao6k9.cloudfront.net/images/landings/43/shirts-mob-1.jpg\", normalize_embeddings=True\n",
    "        )\n",
    "\n",
    "res = client.search(\n",
    "        collection_name=QDRANT_COLLECTION_NAME,\n",
    "        query_vector=query_embeddings.tolist(),\n",
    "        limit=10,\n",
    "    )\n"
   ]
  },
  {
   "cell_type": "code",
   "execution_count": 72,
   "id": "3e8a0cc5-532d-46a8-a146-1d09477cf0e5",
   "metadata": {},
   "outputs": [
    {
     "data": {
      "text/plain": [
       "[ScoredPoint(id='2422ba6f-262a-4e04-9126-f874593e4c7a', version=16, score=0.7814283, payload={'name': 'Mango MIT ZIERNÄHTEN', 'brand': 'Mango', 'description': '', 'price': 45.99, 'review_score': 0, 'url': 'https://www.zalando.it/mango-wide-leg-blau-m9121n26u-k11.html', 'image_url': 'https://img01.ztat.net/article/spp-media-p1/13f14ab6cacc4f33aea6cfadb0fac207/7aef5c18accf478d860a3331103b73f6.jpg?imwidth=300'}, vector=None, shard_key=None, order_value=None),\n",
       " ScoredPoint(id='cb86cef5-ba3f-4b05-b8c8-6cfda9f9333a', version=16, score=0.7630111, payload={'name': 'Calvin Klein Jeans MID RISE', 'brand': 'Calvin Klein Jeans', 'description': 'Promo', 'price': 59.99, 'review_score': 0, 'url': 'https://www.zalando.it/calvin-klein-jeans-mid-rise-jeans-skinny-fit-denim-dark-c1821n0lx-k11.html', 'image_url': 'https://img01.ztat.net/article/spp-media-p1/7677dca00ac64142bbd7f40a123fa9f1/5e505f360e094ad89fe394ac376261a8.jpg?imwidth=300'}, vector=None, shard_key=None, order_value=None),\n",
       " ScoredPoint(id='eeeee748-2d91-4db7-8706-dc43d76c20f4', version=6, score=0.74737847, payload={'name': 'Lee BREESE', 'brand': 'Lee', 'description': 'Jeans a zampa', 'price': 66.99, 'review_score': 0, 'url': 'https://www.zalando.it/lee-breese-jeans-a-zampa-le421n058-q11.html', 'image_url': 'https://img01.ztat.net/article/spp-media-p1/d1d3b10d972747edb8f0820108654c09/c48761ba8f78492cb1e44d629c0532b9.jpg?imwidth=300'}, vector=None, shard_key=None, order_value=None),\n",
       " ScoredPoint(id='bfb065b7-3ac5-4d1f-adff-707bd0f31d7a', version=18, score=0.7451331, payload={'name': 'Mango COMFORT HIGH-RISE - Jeans mom fit - dark blue', 'brand': 'Mango', 'description': 'Maglione a maniche lunghe in maglia marrone con trama aperta, abbinato a jeans dritti blu scuro e infradito marroni, su uno sfondo neutro.', 'price': 35.99, 'review_score': 0, 'url': 'https://www.zalando.it/mango-jeans-slim-fit-dark-blue-m9121n275-k11.html', 'image_url': 'https://img01.ztat.net/article/spp-media-p1/62cfd75b7e634ec2809e0ab7f808adce/5b6ee869474b4268a5c7982548c69e2e.jpg'}, vector=None, shard_key=None, order_value=None),\n",
       " ScoredPoint(id='37070fb9-0db5-40e0-ac67-4d337b032ce9', version=7, score=0.7427675, payload={'name': 'LeeREGULAR WESTERN SHIRT - Camicia - range', 'brand': 'Lee', 'description': 'Camicia di jeans di colore azzurro chiaro con chiusura a bottoni, due tasche sul petto e maniche arrotolate. Il materiale presenta una leggera sbiaditura e una texture usurata.', 'price': 66.99, 'review_score': 0, 'url': 'https://www.zalando.it/lee-regular-western-camicia-range-le421e086-k11.html', 'image_url': 'https://img01.ztat.net/article/spp-media-p1/99721eafda0f4d8cb0845ebc36f84879/26d9b7f9f8234c7ca2bf69b1712dfd6c.jpg?imwidth=300'}, vector=None, shard_key=None, order_value=None),\n",
       " ScoredPoint(id='ef199c1d-4464-42bc-abe6-208d60970c69', version=12, score=0.7359513, payload={'name': 'Tommy Jeans Mom Jeans baggy', 'brand': 'Tommy Jeans', 'description': 'Jeans baggy', 'price': 59.99, 'review_score': 0, 'url': 'https://www.zalando.it/tommy-jeans-mom-jeans-baggy-blue-tob21n0q1-k11.html', 'image_url': 'https://img01.ztat.net/article/spp-media-p1/49ecb42a6a924e199326ea94ec8ded48/d072266d2fa941af82e64c87fa5aef90.jpg?imwidth=300'}, vector=None, shard_key=None, order_value=None),\n",
       " ScoredPoint(id='40ac1c5d-f66d-4275-8496-ce5db1e18d41', version=26, score=0.7338554, payload={'name': \"Levi's 712 SLIM WELT POCKET - Jeans slim fit - blue wave dark\", 'brand': \"Levi's\", 'description': 'Jeans slim fit in blue wave dark', 'price': 83.99, 'review_score': 0, 'url': 'https://www.zalando.it/levis-712-slim-welt-pocket-jeans-slim-fit-blue-wave-dark-le221n0lx-k13.html', 'image_url': 'https://img01.ztat.net/article/spp-media-p1/a9c9b3b4cf824c47b8b2941eedf66716/f2f53bfe14414859bafe718f68b2c314.jpg?imwidth=300'}, vector=None, shard_key=None, order_value=None),\n",
       " ScoredPoint(id='e1fb733a-4c94-4433-9f5b-1790ef3535fc', version=15, score=0.73283905, payload={'name': 'MANGO SIENNA CROPPED JEANS A SIGARETTA', 'brand': 'MANGO', 'description': 'blue', 'price': 29.99, 'review_score': 0, 'url': 'https://www.zalando.it/mango-sienna-cropped-jeans-a-sigaretta-blue-m9121n263-k11.html', 'image_url': 'https://img01.ztat.net/article/spp-media-p1/fed4745b2f634ee3a5153b964f183aa9/088d05cf91324d21a99bf4e0586443ce.png'}, vector=None, shard_key=None, order_value=None),\n",
       " ScoredPoint(id='f319405c-a408-48e4-a434-4f33a683d1b3', version=26, score=0.7264315, payload={'name': 'Massimo Dutti MID-RISE WIDE-LEG - Wide Leg - light brown', 'brand': 'Massimo Dutti', 'description': 'Wide leg in light brown', 'price': 69.95, 'review_score': 0, 'url': 'https://www.zalando.it/massimo-dutti-mid-rise-wide-jeans-baggy-light-brown-m3i21n0dp-o11.html', 'image_url': 'https://img01.ztat.net/article/spp-media-p1/038aa7e68ef84058a4f51d8e40babcf9/f8c35562cea24b4db09b4971470be1b6.jpg?imwidth=300'}, vector=None, shard_key=None, order_value=None),\n",
       " ScoredPoint(id='dfe098c5-9f47-4b04-8cc9-f107aef84064', version=31, score=0.72206485, payload={'name': 'BAGGY JEANS', 'brand': 'Stradivarius', 'description': 'Jeans baggy - dirty denim', 'price': 39.99, 'review_score': 0, 'url': 'https://www.zalando.it/stradivarius-baggy-jeans-baggy-dirty-denim-sth21n0mf-k11.html', 'image_url': 'https://img01.ztat.net/article/spp-media-p1/61d4c202f6154976a42ffb9b138c924f/c9e14c17504b40fc90e7028ae4211546.jpg'}, vector=None, shard_key=None, order_value=None)]"
      ]
     },
     "execution_count": 72,
     "metadata": {},
     "output_type": "execute_result"
    }
   ],
   "source": [
    "res"
   ]
  },
  {
   "cell_type": "code",
   "execution_count": null,
   "id": "f9261a38-292a-4d77-b6e3-b4edf6073471",
   "metadata": {},
   "outputs": [],
   "source": []
  },
  {
   "cell_type": "code",
   "execution_count": null,
   "id": "576bd185-5b0b-4c0b-b510-5a9b4ec4c1ce",
   "metadata": {},
   "outputs": [],
   "source": []
  },
  {
   "cell_type": "code",
   "execution_count": null,
   "id": "7e52f2f2-75ab-4a87-b856-2c6aa0001671",
   "metadata": {},
   "outputs": [],
   "source": []
  },
  {
   "cell_type": "code",
   "execution_count": null,
   "id": "3b72e216-6b1b-4b55-b530-f94ee2e731fa",
   "metadata": {},
   "outputs": [],
   "source": []
  }
 ],
 "metadata": {
  "kernelspec": {
   "display_name": "Python 3 (ipykernel)",
   "language": "python",
   "name": "python3"
  },
  "language_info": {
   "codemirror_mode": {
    "name": "ipython",
    "version": 3
   },
   "file_extension": ".py",
   "mimetype": "text/x-python",
   "name": "python",
   "nbconvert_exporter": "python",
   "pygments_lexer": "ipython3",
   "version": "3.13.2"
  }
 },
 "nbformat": 4,
 "nbformat_minor": 5
}
