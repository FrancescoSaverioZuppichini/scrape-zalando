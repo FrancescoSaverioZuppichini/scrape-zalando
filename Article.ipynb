{
 "cells": [
  {
   "cell_type": "markdown",
   "id": "e35509a9-d025-48dc-886d-3316ebc5e675",
   "metadata": {},
   "source": [
    "# Clothes multimodal search with Scrapegraph, Jina Clip v2 and Qdrant Vector DB 👗\n",
    "\n",
    "Hi there 👋 Today we're build a small demo to search clothes from [zalando](https://zalando.com/),  directly with natural language or images. Our plan of attack is to first scrape them, embed the images using a multimodal model and then store them into a vector db so we can search!\n",
    "\n",
    "\n",
    "Scraping websites is not an easy task, most of them cannot be easily fetch with an http request and requires javascript to be loaded. If we try to make a HTTP request to zalando, we'll be blocked."
   ]
  },
  {
   "cell_type": "code",
   "execution_count": 88,
   "id": "b77b0f02-476b-4ad9-a3bd-95c76e3c95e5",
   "metadata": {},
   "outputs": [
    {
     "data": {
      "text/plain": [
       "403"
      ]
     },
     "execution_count": 88,
     "metadata": {},
     "output_type": "execute_result"
    }
   ],
   "source": [
    "import requests\n",
    "\n",
    "res = requests.get(\"https://www.zalando.it/jeans-donna\")\n",
    "# we'll get 403\n",
    "res.status_code"
   ]
  },
  {
   "cell_type": "markdown",
   "id": "c4c8f9e0-e26b-4d74-8b16-b166d57c5a3d",
   "metadata": {},
   "source": [
    "We need something smarter, [scrapegraph](https://scrapegraphai.com/) is a perfect tool for the job. It can bypass websites blockers and allow us to define a [pydantic schema](https://docs.pydantic.dev/latest/concepts/models/) to scrape the information we want. It works by loading the website, parsing it and use LLMs to fill our schema with the data within the page.\n",
    "\n",
    "Once we get the data, we need a way to creates vector to store/search. Since we want to work with images and text, we need the heavy guns. [Jina ClipV2](https://jina.ai/news/jina-clip-v2-multilingual-multimodal-embeddings-for-text-and-images/) is a wonderful open source model that can represent as vector both images and text, thus is a perfect pick for the task.\n",
    "\n",
    "Finally, we need to save our juicy vectors somewhere. [Qdrant](https://qdrant.tech/) is my go to vector database, you can self host it with [docker](https://hub.docker.com/r/qdrant/qdrant) and it comes with an handy ui. It supports different vector quantizations technics, so we can squeeze a lot of performances!\n",
    "\n",
    "So, to recap. How plan of attack looks something like\n",
    "\n",
    "![alt](./images/flow.png)\n",
    "\n",
    "1. Scrape with Scrapegraph\n",
    "2. Embed with Jina ClipV2\n",
    "3. Store with Qdrant\n",
    "\n",
    "Let's get started!"
   ]
  },
  {
   "cell_type": "markdown",
   "id": "5473bcb5-00d2-4134-8f38-30ca5423ded4",
   "metadata": {},
   "source": [
    "## Setting it up\n",
    "\n",
    "We'll need a bunch of packages. I am using `uv`, so we'll stick with it. You can init your project using\n",
    "\n",
    "```\n",
    "uv init\n",
    "uv add python-dotenv scrapegraph-py==1.24.0 aiofiles sentence-transformers qdrant-client\n",
    "```\n",
    "\n",
    "Or if you prefer `pip`\n",
    "\n",
    "```\n",
    "pip install python-dotenv scrapegraph-py==1.24.0 aiofiles sentence-transformers qdrant-client\n",
    "```"
   ]
  },
  {
   "cell_type": "code",
   "execution_count": 90,
   "id": "fb1a98b8-75b9-43cd-a0b6-f6aed29c2be8",
   "metadata": {},
   "outputs": [
    {
     "name": "stdout",
     "output_type": "stream",
     "text": [
      "\u001b[2mResolved \u001b[1m158 packages\u001b[0m \u001b[2min 0.43ms\u001b[0m\u001b[0m\n",
      "\u001b[2mAudited \u001b[1m138 packages\u001b[0m \u001b[2min 0.10ms\u001b[0m\u001b[0m\n"
     ]
    },
    {
     "name": "stderr",
     "output_type": "stream",
     "text": [
      "huggingface/tokenizers: The current process just got forked, after parallelism has already been used. Disabling parallelism to avoid deadlocks...\n",
      "To disable this warning, you can either:\n",
      "\t- Avoid using `tokenizers` before the fork if possible\n",
      "\t- Explicitly set the environment variable TOKENIZERS_PARALLELISM=(true | false)\n"
     ]
    }
   ],
   "source": [
    "!uv add python-dotenv scrapegraph-py==1.24.0 aiofiles sentence-transformers qdrant-client"
   ]
  },
  {
   "cell_type": "markdown",
   "id": "5bf92da4-c74e-481b-9c71-08c7a5be2b85",
   "metadata": {},
   "source": [
    "## Scraping\n",
    "\n",
    "First thing all, head over [scrapegraph dashboard](https://dashboard.scrapegraphai.com/) and get your api key. Create a `.env` file and put it inside\n",
    "\n",
    "```\n",
    "GAI_API_KEY=\"YOUR_API_KEY\"\n",
    "```\n",
    "\n",
    "Then we can load it"
   ]
  },
  {
   "cell_type": "code",
   "execution_count": 91,
   "id": "0936f5d4-87c5-466a-a634-d5e9ad5d26e6",
   "metadata": {},
   "outputs": [
    {
     "data": {
      "text/plain": [
       "True"
      ]
     },
     "execution_count": 91,
     "metadata": {},
     "output_type": "execute_result"
    }
   ],
   "source": [
    "from dotenv import load_dotenv\n",
    "import os\n",
    "load_dotenv()\n",
    "\n",
    "SGAI_API_KEY = os.getenv(\"SGAI_API_KEY\")"
   ]
  },
  {
   "cell_type": "markdown",
   "id": "4607ec75-8517-4954-addd-656aceab5030",
   "metadata": {},
   "source": [
    "Now, we need to define the data we want. Each article/item in the website looks like:\n",
    "\n",
    "\n",
    "![alt](images/zalando-article.png)\n",
    "\n",
    "We have a brand, name, description, price, image, review etc.\n",
    "\n",
    "In order to tell scrapegraph what we want to extract, we have to define a couple of pydantic schemas. Since a page contains multiple items, we'll create an `ArticleModel`, so the single article, and `ArticlesModel` containing an array of them.\n",
    "\n",
    "We can add `description` to make sure we guide the LLM into extracting the correct info"
   ]
  },
  {
   "cell_type": "code",
   "execution_count": 92,
   "id": "b2b48a0a-1f0d-4e90-8c9c-9f233c2683d9",
   "metadata": {},
   "outputs": [],
   "source": [
    "from pydantic import BaseModel, Field\n",
    "from typing import Optional\n",
    "import asyncio\n",
    "\n",
    "\n",
    "class ArticleModel(BaseModel):\n",
    "    name: str = Field(description=\"Name of the article\")\n",
    "    brand: str = Field(description=\"Brand of the article\")\n",
    "    description: str = Field(description=\"Description of the article\")\n",
    "    price: float = Field(description=\"Price of the article\")\n",
    "    review_score: float = Field(description=\"Review score of the article, out of five.\")\n",
    "    url: str = Field(description=\"Article url\")\n",
    "    image_url: Optional[str]= Field(description=\"Article's image url\")\n",
    "\n",
    "\n",
    "class ArticlesModel(BaseModel):\n",
    "    articles: list[ArticleModel] = Field(description=\"Articles on the page, only the ones with price, review and image. Discard the others\")\n"
   ]
  },
  {
   "cell_type": "markdown",
   "id": "a40eeef1-1835-472c-9699-5250d61a674d",
   "metadata": {},
   "source": [
    "Now, the fun part. We'll store our scraped data locally into a `.jsonl` file. We'll also add a `user_prompt` to guide even further scrapegraph. Since the scraping process is heavily I/O bound, we'll use their `AsyncClient` so we can fire a lot of them at once. \n",
    "\n",
    "Let's import everything and define our variables"
   ]
  },
  {
   "cell_type": "code",
   "execution_count": 103,
   "id": "a1ab676c-747c-40b8-8c19-058b5df844ec",
   "metadata": {},
   "outputs": [],
   "source": [
    "from time import perf_counter\n",
    "# let' use async\n",
    "from scrapegraph_py import AsyncClient\n",
    "from scrapegraph_py.logger import sgai_logger\n",
    "sgai_logger.set_logging(level=\"INFO\")\n",
    "\n",
    "# let's use async to write to the file as well\n",
    "import aiofiles\n",
    "import json\n",
    "import asyncio\n",
    "import os\n",
    "\n",
    "JSON_PATH = \"scrape.jsonl\"\n",
    "# how much scraping request to fire at one\n",
    "BATCH_SIZE = 8\n",
    "# how many pages per category\n",
    "MAX_PAGES = 100\n",
    "\n",
    "# the user prompt to send to scrapegraph along the pydantic schemas\n",
    "\n",
    "user_prompt = \"\"\"Extract ONLY the articles in the page with price, review and image url. Discard all the others.\"\"\""
   ]
  },
  {
   "cell_type": "markdown",
   "id": "0dae0c6d-ba43-44ae-b0f4-702068991ce9",
   "metadata": {},
   "source": [
    "To start scraping, we can use the [smartscraper](https://docs.scrapegraphai.com/services/smartscraper) method. Let's quickly see it"
   ]
  },
  {
   "cell_type": "code",
   "execution_count": 107,
   "id": "a3466880-0c6b-4691-9b43-10c6898605cf",
   "metadata": {
    "scrolled": true
   },
   "outputs": [
    {
     "name": "stderr",
     "output_type": "stream",
     "text": [
      "💬 2025-09-21 20:08:20,653 🔑 Initializing AsyncClient\n",
      "💬 2025-09-21 20:08:20,654 ✅ AsyncClient initialized successfully\n",
      "Unclosed client session\n",
      "client_session: <aiohttp.client.ClientSession object at 0x373695a90>\n",
      "💬 2025-09-21 20:08:20,655 🔍 Starting smartscraper request\n",
      "💬 2025-09-21 20:08:20,656 🚀 Making POST request to https://api.scrapegraphai.com/v1/smartscraper (Attempt 1/3)\n",
      "💬 2025-09-21 20:08:50,790 ✅ Request completed successfully: POST https://api.scrapegraphai.com/v1/smartscraper\n",
      "💬 2025-09-21 20:08:50,791 ✨ Smartscraper request completed successfully\n"
     ]
    },
    {
     "data": {
      "text/plain": [
       "{'articles': [{'name': 'Bershka BALLOON - BAGGY - Jeans baggy - dark blue',\n",
       "   'brand': 'Bershka',\n",
       "   'description': 'No content available',\n",
       "   'price': 39.99,\n",
       "   'review_score': 0,\n",
       "   'url': 'https://www.zalando.it/bershka-jeans-tapered-fit-dark-blue-bej21n0m0-k12.html',\n",
       "   'image_url': 'https://img01.ztat.net/article/spp-media-p1/9e3435b8bfc3466bb7b4d1bb9ef14ad3/25e59dea90ec447d8cafd42e949643c2.jpg?imwidth=300'},\n",
       "  {'name': 'Mango MIT ZIERNÄHTEN - Wide Leg - blue',\n",
       "   'brand': 'Mango',\n",
       "   'description': 'No content available',\n",
       "   'price': 45.99,\n",
       "   'review_score': 0,\n",
       "   'url': 'https://www.zalando.it/mango-wide-leg-blau-m9121n26u-k11.html',\n",
       "   'image_url': 'https://img01.ztat.net/article/spp-media-p1/13f14ab6cacc4f33aea6cfadb0fac207/7aef5c18accf478d860a3331103b73f6.jpg?imwidth=300'},\n",
       "  {'name': 'Stradivarius WITH POCKETS - Jeans a sigaretta - dark blue',\n",
       "   'brand': 'Stradivarius',\n",
       "   'description': 'No content available',\n",
       "   'price': 39.99,\n",
       "   'review_score': 0,\n",
       "   'url': 'https://www.zalando.it/stradivarius-jeans-baggy-dark-blue-sth21n0k1-k11.html',\n",
       "   'image_url': 'https://img01.ztat.net/article/spp-media-p1/2ec8568f05b249eab5dc984c9e93f0b3/9ad591321a5c49ac94a565c77781fa8b.jpg?imwidth=300'},\n",
       "  {'name': 'Bershka BOYFRIEND - Jeans baggy - dark blue',\n",
       "   'brand': 'Bershka',\n",
       "   'description': 'No content available',\n",
       "   'price': 39.99,\n",
       "   'review_score': 0,\n",
       "   'url': 'https://www.zalando.it/bershka-boyfriend-jeans-a-zampa-dark-blue-bej21n0lg-k13.html',\n",
       "   'image_url': 'https://img01.ztat.net/article/spp-media-p1/d43dcede43a94d4c9333ff0542f9be89/998eb9bffd05413e8bfea2f4c8d44e7a.jpg?imwidth=300'},\n",
       "  {'name': 'Bershka WIDE-LEG - Wide Leg - dark blue',\n",
       "   'brand': 'Bershka',\n",
       "   'description': 'No content available',\n",
       "   'price': 35.99,\n",
       "   'review_score': 0,\n",
       "   'url': 'https://www.zalando.it/bershka-jeans-a-zampa-dark-blue-bej21n0li-k14.html',\n",
       "   'image_url': 'https://img01.ztat.net/article/spp-media-p1/83dea23979584ccf91103755ae45d823/316a75604b004f269d59abf8e96089c2.jpg?imwidth=300'},\n",
       "  {'name': 'PULL&BEAR MID-WAIST - Jeans a sigaretta - dark blue denim',\n",
       "   'brand': 'PULL&BEAR',\n",
       "   'description': 'No content available',\n",
       "   'price': 29.99,\n",
       "   'review_score': 0,\n",
       "   'url': 'https://www.zalando.it/pullandbear-mid-waist-jeans-a-sigaretta-dark-blue-denim-puc21n0rh-k13.html',\n",
       "   'image_url': 'https://img01.ztat.net/article/spp-media-p1/74af56f0bec84c3f8a47c60d803efd92/62b6600d9cda47d8b2a2016e007b18c2.jpg?imwidth=300'},\n",
       "  {'name': 'PULL&BEAR Jeans mom fit - dark blue denim',\n",
       "   'brand': 'PULL&BEAR',\n",
       "   'description': 'No content available',\n",
       "   'price': 25.99,\n",
       "   'review_score': 0,\n",
       "   'url': 'https://www.zalando.it/pullandbear-jeans-mom-fit-dark-blue-denim-puc21n0t5-k11.html',\n",
       "   'image_url': 'https://img01.ztat.net/article/spp-media-p1/b1cb4017993c410181b4d3c239507f9d/89db251e372f431791e064cb79a5847e.jpg?imwidth=300'},\n",
       "  {'name': 'PULL&BEAR Wide Leg - light blue',\n",
       "   'brand': 'PULL&BEAR',\n",
       "   'description': 'No content available',\n",
       "   'price': 35.99,\n",
       "   'review_score': 0,\n",
       "   'url': 'https://www.zalando.it/pullandbear-wide-leg-light-blue-puc21n0tt-k11.html',\n",
       "   'image_url': 'https://img01.ztat.net/article/spp-media-p1/4155c1c222b24b889dffd1a9fd75a146/3b4179017a404cf49dc6c300e307a057.jpg?imwidth=300'},\n",
       "  {'name': 'Mango BALLOON - Wide Leg - dark blue',\n",
       "   'brand': 'Mango',\n",
       "   'description': 'No content available',\n",
       "   'price': 39.99,\n",
       "   'review_score': 0,\n",
       "   'url': 'https://www.zalando.it/mango-jeans-baggy-dark-blue-m9121n273-k11.html',\n",
       "   'image_url': 'https://img01.ztat.net/article/spp-media-p1/29d061a8410147e0b15d48d6b07509ac/5250d3f3313b4a4c8bc54d8292bfbeae.jpg?imwidth=300'},\n",
       "  {'name': 'Calliope LUNGO - Jeans baggy - blu denim scuro',\n",
       "   'brand': 'Calliope',\n",
       "   'description': 'No content available',\n",
       "   'price': 29.99,\n",
       "   'review_score': 0,\n",
       "   'url': 'https://www.zalando.it/calliope-jeans-baggy-blu-denim-scuro-csm21n06g-k11.html',\n",
       "   'image_url': 'https://img01.ztat.net/article/spp-media-p1/1c0e2ec1b75041459635bdbfe046e233/39789742c1714730aa8cd259c83d10d5.jpg?imwidth=300'},\n",
       "  {'name': 'PULL&BEAR Jeans mom fit - light blue',\n",
       "   'brand': 'PULL&BEAR',\n",
       "   'description': 'No content available',\n",
       "   'price': 25.99,\n",
       "   'review_score': 0,\n",
       "   'url': 'https://www.zalando.it/pullandbear-jeans-a-sigaretta-light-blue-puc21n0t5-k16.html',\n",
       "   'image_url': 'https://img01.ztat.net/article/spp-media-p1/c344a997b1f74e1ca9e4ba1357a16dd8/d705b90c61f74a3297b5ac368a908093.jpg?imwidth=300'},\n",
       "  {'name': 'Bershka WITH STUDS - Jeans loose fit - blue grey',\n",
       "   'brand': 'Bershka',\n",
       "   'description': 'No content available',\n",
       "   'price': 39.99,\n",
       "   'review_score': 0,\n",
       "   'url': 'https://www.zalando.it/bershka-jeans-baggy-blue-grey-bej21n0nq-k11.html',\n",
       "   'image_url': 'https://img01.ztat.net/article/spp-media-p1/f9b2c166276d4864977e248633cb09d0/1f633cc2ebea42cb9a8b611db7e59a72.jpg?imwidth=300'},\n",
       "  {'name': 'Mango Jeans a zampa - dark blue',\n",
       "   'brand': 'Mango',\n",
       "   'description': 'No content available',\n",
       "   'price': 39.99,\n",
       "   'review_score': 0,\n",
       "   'url': 'https://www.zalando.it/mango-jeans-a-zampa-dark-blue-m9121n28g-k11.html',\n",
       "   'image_url': 'https://img01.ztat.net/article/spp-media-p1/22fb400e396d493283e52f77da2ff7e1/0740a438a0a44a6f8cba5e1177cc3ea7.png?imwidth=300'},\n",
       "  {'name': 'Terranova Jeans mom fit - blu denim medio',\n",
       "   'brand': 'Terranova',\n",
       "   'description': 'No content available',\n",
       "   'price': 29.99,\n",
       "   'review_score': 0,\n",
       "   'url': 'https://www.zalando.it/terranova-jeans-mom-fit-blu-denim-medio-tbt21n05k-k11.html',\n",
       "   'image_url': 'https://img01.ztat.net/article/spp-media-p1/408bd6ae71914123bbdaa2ce7bb99129/a233f02128ed445296cbb0ca44996e4b.jpg?imwidth=300'},\n",
       "  {'name': 'Stradivarius MOM-FIT - Jeans slim fit - black denim',\n",
       "   'brand': 'Stradivarius',\n",
       "   'description': 'No content available',\n",
       "   'price': 25.99,\n",
       "   'review_score': 0,\n",
       "   'url': 'https://www.zalando.it/stradivarius-jeans-slim-fit-black-denim-sth21n04d-q11.html',\n",
       "   'image_url': 'https://img01.ztat.net/article/spp-media-p1/015ce90ac5294875a2c6410b70b0fe86/3b1fcfd5dbf74ed3aa7ee8825a7e134f.jpg?imwidth=300'},\n",
       "  {'name': 'Stradivarius VINTAGE - Jeans a sigaretta - light blue denim',\n",
       "   'brand': 'Stradivarius',\n",
       "   'description': 'No content available',\n",
       "   'price': 29.99,\n",
       "   'review_score': 0,\n",
       "   'url': 'https://www.zalando.it/stradivarius-d98-vintage-jeans-a-sigaretta-light-blue-denim-sth21n0i9-k13.html',\n",
       "   'image_url': 'https://img01.ztat.net/article/spp-media-p1/29d061a8410147e0b15d48d6b07509ac/5250d3f3313b4a4c8bc54d8292bfbeae.jpg?imwidth=300'},\n",
       "  {'name': 'Bershka Jeans a sigaretta - light-blue denim',\n",
       "   'brand': 'Bershka',\n",
       "   'description': 'No content available',\n",
       "   'price': 29.99,\n",
       "   'review_score': 0,\n",
       "   'url': 'https://www.zalando.it/bershka-jeans-a-sigaretta-light-blue-denim-bej21n0lh-k12.html',\n",
       "   'image_url': 'https://img01.ztat.net/article/spp-media-p1/2dbee5fac01d4cb78fa4f2880ab09926/12614c8a09b24f69a9787b6938c8f2bd.jpg?imwidth=300'},\n",
       "  {'name': 'PULL&BEAR Jeans a sigaretta - grey',\n",
       "   'brand': 'PULL&BEAR',\n",
       "   'description': 'No content available',\n",
       "   'price': 35.99,\n",
       "   'review_score': 0,\n",
       "   'url': 'https://www.zalando.it/pullandbear-jeans-a-sigaretta-grey-puc21n0tv-c11.html',\n",
       "   'image_url': 'https://img01.ztat.net/article/spp-media-p1/6db354622e2347fbbd816e6677a3e448/491f24c27ffd4b7f8f1d5b553ceef79a.jpg?imwidth=300'},\n",
       "  {'name': 'Bershka SPLIT-HEM - Jeans a zampa - light blue denim',\n",
       "   'brand': 'Bershka',\n",
       "   'description': 'No content available',\n",
       "   'price': 29.99,\n",
       "   'review_score': 0,\n",
       "   'url': 'https://www.zalando.it/bershka-split-hem-jeans-a-zampa-light-blue-denim-bej21n0mr-k11.html',\n",
       "   'image_url': 'https://img01.ztat.net/article/spp-media-p1/d27b124679d94a5c874923a076861a02/ca26bcc6045845b394408af887afad9e.jpg?imwidth=300'},\n",
       "  {'name': 'Bershka Jeans baggy - blue denim',\n",
       "   'brand': 'Bershka',\n",
       "   'description': 'No content available',\n",
       "   'price': 39.99,\n",
       "   'review_score': 0,\n",
       "   'url': 'https://www.zalando.it/bershka-jeans-baggy-bej21n0my-k11.html',\n",
       "   'image_url': 'https://img01.ztat.net/article/spp-media-p1/7be1bed1e2a4446ba6073e4066538b00/9d8682d084614d84a8acb74d33961418.jpg?imwidth=300'},\n",
       "  {'name': 'Terranova Wide Leg - grigio denim',\n",
       "   'brand': 'Terranova',\n",
       "   'description': 'No content available',\n",
       "   'price': 29.99,\n",
       "   'review_score': 0,\n",
       "   'url': 'https://www.zalando.it/terranova-wide-leg-grigio-denim-tbt21n05s-c11.html',\n",
       "   'image_url': 'https://img01.ztat.net/article/spp-media-p1/fd7c2f86557a4178971a85e5c8c01f8a/efd520cf7dcb43b281333b45fc392c7e.jpg?imwidth=300'},\n",
       "  {'name': 'Bershka Jeans baggy - dark blue',\n",
       "   'brand': 'Bershka',\n",
       "   'description': 'No content available',\n",
       "   'price': 45.99,\n",
       "   'review_score': 0,\n",
       "   'url': 'https://www.zalando.it/bershka-jeans-baggy-dark-blue-bej21n0no-k11.html',\n",
       "   'image_url': 'https://img01.ztat.net/article/spp-media-p1/51a09d9cdcd143119351905370a1596c/65bab4aea99441ec9273a79f2feacb9a.jpg?imwidth=300'},\n",
       "  {'name': 'PULL&BEAR Jeans mom fit - black',\n",
       "   'brand': 'PULL&BEAR',\n",
       "   'description': 'No content available',\n",
       "   'price': 25.99,\n",
       "   'review_score': 0,\n",
       "   'url': 'https://www.zalando.it/pullandbear-jeans-a-sigaretta-black-puc21n0t5-q11.html',\n",
       "   'image_url': 'https://img01.ztat.net/article/spp-media-p1/90a015f51c724831b3ef82fcd5989f24/fff5187bb76643d5a64eff0b58f1b51e.jpg?imwidth=300'},\n",
       "  {'name': 'ONLY MIT WEITEM BEIN ONLGIANNA MITTLERE TAILLE BALLON SCHNITT - Jeans a sigaretta - washed black',\n",
       "   'brand': 'ONLY',\n",
       "   'description': 'No content available',\n",
       "   'price': 49.99,\n",
       "   'review_score': 0,\n",
       "   'url': 'https://www.zalando.it/only-mit-weitem-bein-onlgianna-mittlere-taille-ballon-schnitt-jeans-baggy-washed-black-on321n2ik-c11.html',\n",
       "   'image_url': 'https://img01.ztat.net/article/spp-media-p1/eb6043581e454891ab9f85e0005dac2f/5eff458bac1d4e368ab0fdecb6856cb7.jpg?imwidth=300'},\n",
       "  {'name': 'Calvin Klein Jeans NEW - Jeans mom fit - delaware',\n",
       "   'brand': 'Calvin Klein Jeans',\n",
       "   'description': 'No content available',\n",
       "   'price': 99.99,\n",
       "   'review_score': 0,\n",
       "   'url': 'https://www.zalando.it/calvin-klein-jeans-new-jeans-mom-fit-delaware-c1821n0xy-k11.html',\n",
       "   'image_url': 'https://img01.ztat.net/article/spp-media-p1/2369670fb5f34d279cb740d8f2f1ac54/8dad095ffca24f2c94b5995facea673b.jpg?imwidth=300'},\n",
       "  {'name': 'Calvin Klein Jeans NEW MOM JEAN - Jeans mom fit - thompson',\n",
       "   'brand': 'Calvin Klein Jeans',\n",
       "   'description': 'No content available',\n",
       "   'price': 99.99,\n",
       "   'review_score': 0,\n",
       "   'url': 'https://www.zalando.it/calvin-klein-jeans-jeans-mom-fit-thompson-c1821n0y0-k11.html',\n",
       "   'image_url': 'https://img01.ztat.net/article/spp-media-p1/8f65effcce5d410f9474e88c108feeea/30de8c85012443c2b462c0154c43b64a.jpg?imwidth=300'},\n",
       "  {'name': 'Calvin Klein Jeans NEW MOM - Jeans mom fit - soft black',\n",
       "   'brand': 'Calvin Klein Jeans',\n",
       "   'description': 'No content available',\n",
       "   'price': 99.99,\n",
       "   'review_score': 0,\n",
       "   'url': 'https://www.zalando.it/calvin-klein-jeans-new-mom-jeans-mom-fit-soft-black-c1821n0xz-q11.html',\n",
       "   'image_url': 'https://img01.ztat.net/article/spp-media-p1/6466040bc6a34d7bb7faeba982623f9f/35c617c4c9bb4c8390c64fe71ec41370.jpg?imwidth=300'},\n",
       "  {'name': 'Calvin Klein Jeans SIGNATURE 90S STRAIGHT - Jeans baggy - lafayette',\n",
       "   'brand': 'Calvin Klein Jeans',\n",
       "   'description': 'No content available',\n",
       "   'price': 99.99,\n",
       "   'review_score': 0,\n",
       "   'url': 'https://www.zalando.it/calvin-klein-jeans-signature-90s-straight-jeans-baggy-lafayette-c1821n0wc-k11.html',\n",
       "   'image_url': 'https://img01.ztat.net/article/spp-media-p1/1fc0a38792864f6f8fa9a2d73015cd6c/95f20f4b6edb4c3e83d3d22c1a97b900.jpg?imwidth=300'},\n",
       "  {'name': 'Calvin Klein Jeans HIGH RISE SKINNY - Jeans Skinny Fit - midtown blue',\n",
       "   'brand': 'Calvin Klein Jeans',\n",
       "   'description': 'No content available',\n",
       "   'price': 89.99,\n",
       "   'review_score': 0,\n",
       "   'url': 'https://www.zalando.it/calvin-klein-jeans-high-rise-skinny-jeans-skinny-fit-midtown-blue-c1821n0y2-k11.html',\n",
       "   'image_url': 'https://img01.ztat.net/article/spp-media-p1/987af0bcffdf493f856d190e9bd5d1c8/5bb4a9e25b824dd9a7a3c57faa001ee0.jpg?imwidth=300'},\n",
       "  {'name': 'Calvin Klein Jeans HIGH RISE - Jeans Skinny Fit - vintage avenue',\n",
       "   'brand': 'Calvin Klein Jeans',\n",
       "   'description': 'No content available',\n",
       "   'price': 99.99,\n",
       "   'review_score': 0,\n",
       "   'url': 'https://www.zalando.it/calvin-klein-jeans-high-rise-jeans-skinny-fit-vintage-avenue-c1821n0xx-k11.html',\n",
       "   'image_url': 'https://img01.ztat.net/article/spp-media-p1/0be4003bad1a4366a860fc40266c6077/47d2c741f0f749989b0f9cac7f04a7f4.jpg?imwidth=300'},\n",
       "  {'name': 'Calvin Klein Jeans Jeans Skinny Fit - classic black',\n",
       "   'brand': 'Calvin Klein Jeans',\n",
       "   'description': 'No content available',\n",
       "   'price': 69.99,\n",
       "   'review_score': 0,\n",
       "   'url': 'https://www.zalando.it/calvin-klein-jeans-jeans-skinny-fit-classic-black-c1821n0y1-q11.html',\n",
       "   'image_url': 'https://img01.ztat.net/article/spp-media-p1/ee2215ee855940aab00dcfec627e67d7/92081a14dac747b7a013c8255fc6b61a.jpg?imwidth=300'},\n",
       "  {'name': 'Calvin Klein Jeans MID RISE - Jeans Skinny Fit - light cape',\n",
       "   'brand': 'Calvin Klein Jeans',\n",
       "   'description': 'No content available',\n",
       "   'price': 84.99,\n",
       "   'review_score': 0,\n",
       "   'url': 'https://www.zalando.it/calvin-klein-jeans-mid-rise-jeans-skinny-fit-light-cape-c1821n0wj-k11.html',\n",
       "   'image_url': 'https://img01.ztat.net/article/spp-media-p1/79ffe87180af4b138fcfe30755853eec/86c1660b91c04335b8516cbe8e724d17.jpg?imwidth=300'},\n",
       "  {'name': 'Calvin Klein Jeans MID RISE - Jeans Skinny Fit - classic black',\n",
       "   'brand': 'Calvin Klein Jeans',\n",
       "   'description': 'No content available',\n",
       "   'price': 84.99,\n",
       "   'review_score': 0,\n",
       "   'url': 'https://www.zalando.it/calvin-klein-jeans-mid-rise-jeans-skinny-fit-classic-black-c1821020d-q11.html',\n",
       "   'image_url': 'https://img01.ztat.net/article/spp-media-p1/66bdb502e22240d8bb2b21860d48b62f/74ffe7b86dd14b9e875be0e3672fdb1a.jpg?imwidth=300'},\n",
       "  {'name': 'Calvin Klein Jeans MID RISE - Jeans Skinny Fit - blue orbit',\n",
       "   'brand': 'Calvin Klein Jeans',\n",
       "   'description': 'No content available',\n",
       "   'price': 89.99,\n",
       "   'review_score': 0,\n",
       "   'url': 'https://www.zalando.it/calvin-klein-jeans-mid-rise-jeans-skinny-fit-blue-orbit-c1821n0wh-k11.html',\n",
       "   'image_url': 'https://img01.ztat.net/article/spp-media-p1/aa05d02f051c4b148a4f7bffe3d6b486/839177689f854964b11bfb4d39c11a03.jpg?imwidth=300'}]}"
      ]
     },
     "execution_count": 107,
     "metadata": {},
     "output_type": "execute_result"
    }
   ],
   "source": [
    "# defining our client\n",
    "client = AsyncClient()\n",
    "# get our zalando link for women's jeans - sorry I am Italian xD\n",
    "url = \"https://www.zalando.it/jeans-donna/\"\n",
    "# get the response\n",
    "response = await client.smartscraper(\n",
    "                website_url=url,\n",
    "                user_prompt=user_prompt,\n",
    "                output_schema=ArticlesModel)\n",
    "\n",
    "response[\"result\"]"
   ]
  },
  {
   "cell_type": "markdown",
   "id": "19c6cda2-6419-446f-afbc-109086adbe80",
   "metadata": {},
   "source": [
    "Okay, let's make our code bulletproof. We need a function to save our data, to disk as jsonl"
   ]
  },
  {
   "cell_type": "code",
   "execution_count": 95,
   "id": "f2d39735-f70b-411c-8236-9052551bfb67",
   "metadata": {},
   "outputs": [],
   "source": [
    "async def save(result: dict):\n",
    "    async with aiofiles.open(JSON_PATH, 'a') as f:\n",
    "        await f.write(json.dumps(result) + '\\n')"
   ]
  },
  {
   "cell_type": "markdown",
   "id": "9d719202-e03a-4716-aed2-e4a59d0b0c35",
   "metadata": {},
   "source": [
    "Let's then call `smartscraper`, passing the `client` and the `url`"
   ]
  },
  {
   "cell_type": "code",
   "execution_count": 108,
   "id": "2c885b7f-984e-4224-bacd-4c7fe35d3235",
   "metadata": {},
   "outputs": [],
   "source": [
    "async def scrape_and_save(client: AsyncClient, url: str): \n",
    "    start = perf_counter()\n",
    "    sgai_logger.info(f\"Scraping url={url}\")\n",
    "    response = await client.smartscraper(\n",
    "                website_url=url,\n",
    "                user_prompt=user_prompt,\n",
    "                output_schema=ArticlesModel)\n",
    "    await save(response)\n",
    "    sgai_logger.info(f\"Tooked {perf_counter() - start:.2f}s\")"
   ]
  },
  {
   "cell_type": "markdown",
   "id": "46d9fed8-1c9d-456f-a71d-f0d1cd44b803",
   "metadata": {},
   "source": [
    "Finally, putting all together. We'll scrape women's jeans and t-shirt tops. We'll check first if `JSON_PATH`, if so we'll assume we had scrape already"
   ]
  },
  {
   "cell_type": "code",
   "execution_count": 119,
   "id": "285cdbb5-fa49-4fb2-afbc-3fb2f1b8f28e",
   "metadata": {
    "scrolled": true
   },
   "outputs": [],
   "source": [
    "async def main():\n",
    "    get_urls = [\n",
    "        lambda page: f\"https://www.zalando.it/jeans-donna/?p={page}\",\n",
    "        lambda page: f\"https://www.zalando.it/t-shirt-top-donna/?p={page}\"\n",
    "    ]\n",
    "\n",
    "    should_scrape = not os.path.exists(JSON_PATH)\n",
    "    if not should_scrape:\n",
    "        sgai_logger.info(f\"jsonl file exists, assuming we had scrape already. Quitting ...\")\n",
    "        return\n",
    "    async with AsyncClient() as client:\n",
    "        for get_url in get_urls:\n",
    "            for i in range(1, MAX_PAGES + 1, BATCH_SIZE):\n",
    "                pages = list(range(i, min(i + BATCH_SIZE, MAX_PAGES + 1)))\n",
    "                tasks = [scrape_and_save(client, get_url(page)) for page in pages]\n",
    "                await asyncio.gather(*tasks)\n"
   ]
  },
  {
   "cell_type": "code",
   "execution_count": 101,
   "id": "b1411e2a-3a1e-41a5-97e4-6c96a935f7c0",
   "metadata": {},
   "outputs": [
    {
     "name": "stderr",
     "output_type": "stream",
     "text": [
      "💬 2025-09-21 11:00:49,526 jsonl file exists, assuming we had scrape already. Quitting ...\n"
     ]
    }
   ],
   "source": [
    "# we'll take some minutes\n",
    "await main()"
   ]
  },
  {
   "cell_type": "markdown",
   "id": "a42036a3-1a3b-4b9c-b59d-1c39ac55ccee",
   "metadata": {},
   "source": [
    "And then you have it, each line is a page scraped!"
   ]
  },
  {
   "cell_type": "code",
   "execution_count": 109,
   "id": "56c510aa-b45b-4629-a282-b49775c1c7d7",
   "metadata": {
    "scrolled": true
   },
   "outputs": [
    {
     "data": {
      "text/plain": [
       "{'name': 'PULL&BEAR BAGGY - Jeans baggy - white',\n",
       " 'brand': 'PULL&BEAR',\n",
       " 'description': 'Cropped top bianco senza maniche abbinato a pantaloni bianchi a gamba larga, con tasche frontali e chiusura a bottone. Sandali piatti marroni con borchie.',\n",
       " 'price': 35.99,\n",
       " 'review_score': 0,\n",
       " 'url': 'https://www.zalando.it/pullandbear-jeans-bootcut-white-puc21n0rs-a11.html',\n",
       " 'image_url': 'https://img01.ztat.net/article/spp-media-p1/ff33dd220e7c4827ba1b8be760e6de7c/b9ca1dcb64b04fa98b0e0d5fa38fff14.jpg?imwidth=300'}"
      ]
     },
     "execution_count": 109,
     "metadata": {},
     "output_type": "execute_result"
    }
   ],
   "source": [
    "with open(JSON_PATH, \"r\") as f:\n",
    "    for line in f.readlines():\n",
    "        data = json.loads(line)\n",
    "        break\n",
    "\n",
    "data[\"result\"][\"articles\"][0]"
   ]
  },
  {
   "cell_type": "markdown",
   "id": "9c9a1618-2654-4715-8ad3-c0c9f2fbe4ca",
   "metadata": {},
   "source": [
    "## Embedding\n",
    "\n",
    "The heavy part is done, now we need embed each image. Recall, our `pydantic` model has an `.image_url` field that hols the link the image for an article on zalando."
   ]
  },
  {
   "cell_type": "code",
   "execution_count": 111,
   "id": "b0405c17-1b0a-4b23-a7b4-954de62051d6",
   "metadata": {},
   "outputs": [
    {
     "data": {
      "text/plain": [
       "'https://img01.ztat.net/article/spp-media-p1/ff33dd220e7c4827ba1b8be760e6de7c/b9ca1dcb64b04fa98b0e0d5fa38fff14.jpg?imwidth=300'"
      ]
     },
     "execution_count": 111,
     "metadata": {},
     "output_type": "execute_result"
    }
   ],
   "source": [
    "data[\"result\"][\"articles\"][0][\"image_url\"]"
   ]
  },
  {
   "cell_type": "markdown",
   "id": "1b160d8e-d24f-46fb-97d5-2bec4188f1d7",
   "metadata": {},
   "source": [
    "Let's do some good programming, limiting the amount of data we have in memory each time. We'll bach process the articles, thus we can load one line of the jsonl at the time. This can be done in python with a generator"
   ]
  },
  {
   "cell_type": "code",
   "execution_count": 112,
   "id": "f4421658-086f-4c30-afb1-afbd26e71b26",
   "metadata": {},
   "outputs": [],
   "source": [
    "def get_articles_from_disk():\n",
    "    with open(JSON_PATH, \"r\") as f:\n",
    "        for line in f.readlines():\n",
    "            data = json.loads(line)\n",
    "            yield data[\"result\"][\"articles\"]\n",
    "\n",
    "articles_gen = get_articles_from_disk()"
   ]
  },
  {
   "cell_type": "markdown",
   "id": "14a10272-b72e-4bb6-a7f4-d1dd0ef3562c",
   "metadata": {},
   "source": [
    "We'll use the wonderful [ClipV2 model made by Jina](https://jina.ai/news/jina-clip-v2-multilingual-multimodal-embeddings-for-text-and-images/) to create vectors for our images. The model has matryoshka representation; allowing (quoting from their blog post) to \"truncate the output dimensions of both text and image embeddings from 1024 down to 64, reducing storage and processing overhead while maintaining strong performance.\". We'll use 512 and use the model with [sentence_transformers](https://sbert.net/)"
   ]
  },
  {
   "cell_type": "code",
   "execution_count": 113,
   "id": "77c0269f-7dc0-4cb5-9c9e-098c2938bc5e",
   "metadata": {},
   "outputs": [
    {
     "name": "stderr",
     "output_type": "stream",
     "text": [
      "/Users/francescozuppichini/.cache/huggingface/modules/transformers_modules/jinaai/jina-clip-implementation/39e6a55ae971b59bea6e44675d237c99762e7ee2/modeling_clip.py:137: UserWarning: Flash attention requires CUDA, disabling\n",
      "  warnings.warn('Flash attention requires CUDA, disabling')\n",
      "/Users/francescozuppichini/.cache/huggingface/modules/transformers_modules/jinaai/jina-clip-implementation/39e6a55ae971b59bea6e44675d237c99762e7ee2/modeling_clip.py:172: UserWarning: xFormers requires CUDA, disabling\n",
      "  warnings.warn('xFormers requires CUDA, disabling')\n"
     ]
    }
   ],
   "source": [
    "from sentence_transformers import SentenceTransformer\n",
    "\n",
    "EMBEDDING_SIZE = 512\n",
    "\n",
    "# initialize the model - will take some time to download it\n",
    "model = SentenceTransformer(\n",
    "    \"jinaai/jina-clip-v2\", trust_remote_code=True, truncate_dim=EMBEDDING_SIZE\n",
    ")"
   ]
  },
  {
   "cell_type": "markdown",
   "id": "ff572120-4778-404f-836b-478912e0283d",
   "metadata": {},
   "source": [
    "Then, we can just pass an image url to get the embeddings, we also normalize them since we will use cosine to perform search later"
   ]
  },
  {
   "cell_type": "code",
   "execution_count": 82,
   "id": "03c8a7ce-5b1f-454f-95d6-e3aca82d1969",
   "metadata": {
    "scrolled": true
   },
   "outputs": [
    {
     "data": {
      "text/plain": [
       "array([-1.28987029e-01,  1.39657214e-01, -1.31025478e-01,  9.68374386e-02,\n",
       "       -2.69599911e-02,  4.83107083e-02, -1.53913930e-01,  1.22468648e-02,\n",
       "       -1.03504017e-01,  5.69794662e-02, -9.76331085e-02, -3.51643823e-02,\n",
       "       -5.69246598e-02, -2.31039617e-03, -6.89019784e-02,  2.16930825e-02,\n",
       "        1.19779579e-01,  2.22846001e-01,  1.75678268e-01, -4.91316523e-03,\n",
       "       -1.80066481e-01,  4.29708622e-02,  5.84954470e-02, -6.49221167e-02,\n",
       "        1.27607718e-01, -1.78001001e-01, -1.01392306e-01,  9.52235460e-02,\n",
       "       -3.21293138e-02,  1.77865714e-01, -4.00542766e-02, -1.70831531e-02,\n",
       "        8.89032148e-03, -9.91963074e-02, -9.23199654e-02,  7.11153671e-02,\n",
       "       -1.20687401e-02,  4.08993065e-02, -9.51866899e-03,  7.04408735e-02,\n",
       "        6.54054433e-02,  1.05399072e-01, -1.37217818e-02, -1.09636031e-01,\n",
       "       -2.46394686e-02,  1.02678955e-01, -7.89565668e-02, -1.83367297e-01,\n",
       "        6.84156939e-02, -8.01245421e-02, -5.04700560e-03, -2.22889017e-02,\n",
       "        2.15363712e-03, -1.62037224e-01,  9.34924036e-02,  8.47819969e-02,\n",
       "        1.67917740e-02, -4.29525562e-02, -1.25017419e-01, -1.27710491e-01,\n",
       "       -1.68607876e-01,  6.55193254e-02, -8.37486461e-02, -1.52683049e-01,\n",
       "       -1.62376799e-02, -2.15813089e-02,  5.73303290e-02, -2.84652021e-02,\n",
       "       -3.78933139e-02, -2.97732186e-05,  2.86577363e-02, -1.78012326e-02,\n",
       "        2.70401798e-02,  2.09431667e-02, -4.53387238e-02,  7.65963923e-03,\n",
       "        4.52661961e-02, -3.62383462e-02, -8.05306807e-03,  2.61675343e-02,\n",
       "       -2.68007498e-02, -7.13732233e-03, -1.26410732e-02, -1.56600289e-02,\n",
       "       -2.01297868e-02, -6.00496009e-02, -4.58216257e-02, -2.80078836e-02,\n",
       "       -6.35363236e-02,  2.33100192e-03, -6.26175851e-03, -8.05621296e-02,\n",
       "       -6.97431415e-02, -8.04251283e-02, -1.43667422e-02,  2.08357368e-02,\n",
       "       -1.97165012e-02,  3.04720849e-02,  9.53041539e-02,  3.65369841e-02,\n",
       "        1.25270458e-02, -3.28157395e-02,  5.13329618e-02,  3.56393531e-02,\n",
       "       -7.20405579e-02,  2.23730933e-02,  3.25568803e-02,  2.71140542e-02,\n",
       "        2.08455548e-02,  9.78422761e-02, -4.28501777e-02,  1.86909512e-02,\n",
       "        6.18211599e-03, -1.08768176e-02,  2.17024386e-02, -3.74372554e-04,\n",
       "        5.53652309e-02,  5.48505746e-02, -2.28793193e-02, -3.30527537e-02,\n",
       "       -2.10682247e-02, -1.17650060e-02,  6.05375618e-02,  6.69310838e-02,\n",
       "       -6.08977163e-03,  5.18552177e-02,  1.92951877e-02, -2.03540716e-02,\n",
       "        1.55774951e-02,  3.65447719e-03, -4.11259085e-02,  4.23703855e-03,\n",
       "       -3.26491054e-03,  3.52489054e-02, -1.23932287e-02, -2.39456967e-02,\n",
       "        1.12959873e-02,  1.09654851e-02,  4.69457768e-02, -1.34571176e-02,\n",
       "       -2.72310749e-02, -1.86729617e-02, -9.83421784e-03,  5.55151468e-03,\n",
       "       -5.62397838e-02, -1.28053529e-02,  6.08471744e-02,  1.66291837e-02,\n",
       "       -1.43584637e-02,  5.61603680e-02,  2.19977349e-02, -1.73637662e-02,\n",
       "       -2.34883185e-02, -8.00752491e-02, -2.46524196e-02,  1.10227671e-02,\n",
       "       -3.47674750e-02, -3.01360735e-03,  1.06507936e-03, -2.73571946e-02,\n",
       "       -2.52492074e-02, -1.47266444e-02,  6.42754883e-02, -1.79838687e-02,\n",
       "        1.48834456e-02,  1.97659968e-03, -2.09921990e-02,  3.41996527e-03,\n",
       "       -3.04897502e-03,  4.13777716e-02,  1.60304625e-02, -1.05788521e-02,\n",
       "        4.26515378e-02, -4.46713064e-03,  3.43492255e-02,  8.69649723e-02,\n",
       "       -3.26562263e-02,  9.67882276e-02, -3.87953431e-03,  1.65517963e-02,\n",
       "        1.74461596e-03, -3.18843238e-02, -3.56983282e-02,  4.39002998e-02,\n",
       "       -8.43935087e-03,  2.21080799e-02,  2.83649322e-02,  5.76924440e-03,\n",
       "        1.14007540e-01, -2.03080545e-03, -1.47513319e-02, -9.59822815e-03,\n",
       "       -4.27222904e-03, -2.08014413e-03, -1.38488496e-02,  2.45115394e-03,\n",
       "       -4.44454551e-02, -2.78110262e-02,  2.28789989e-02, -4.89398604e-03,\n",
       "        2.79045105e-02, -1.53180175e-02,  2.43159197e-02,  3.21118310e-02,\n",
       "        9.85434186e-03, -5.26735298e-02,  2.36267839e-02, -9.44973622e-03,\n",
       "        3.05060595e-02,  4.52584475e-02, -3.00579071e-02,  4.78774160e-02,\n",
       "        5.47868907e-02,  3.16633028e-03,  5.65794238e-04, -3.00387871e-02,\n",
       "        4.90459837e-02,  3.00505664e-02, -4.02997583e-02,  1.20060472e-02,\n",
       "        1.51142040e-02, -6.93870112e-02,  1.91305447e-02, -5.16750254e-02,\n",
       "       -6.06709272e-02,  3.24758254e-02,  1.54941780e-02,  2.35453099e-02,\n",
       "       -5.48696099e-03, -2.87067816e-02, -3.69542465e-02, -2.67875232e-02,\n",
       "        5.70323691e-03,  9.62464197e-04, -7.50557557e-02,  3.22863413e-03,\n",
       "       -7.22009176e-03,  2.63401549e-02, -1.49141680e-02, -1.05805006e-02,\n",
       "       -3.29424180e-02, -6.57892078e-02,  7.62156537e-03, -1.71605386e-02,\n",
       "       -8.20157211e-03, -4.30409377e-03, -1.45194037e-02, -2.00686082e-02,\n",
       "       -2.27869693e-02, -7.40929097e-02, -2.94845868e-02,  1.08537478e-02,\n",
       "        1.15128532e-02,  2.06232890e-02,  1.53072774e-02, -4.41003144e-02,\n",
       "       -6.36215648e-03,  2.91484781e-03,  2.61627715e-02,  5.16414121e-02,\n",
       "       -9.32857115e-03, -3.90195940e-03,  1.50778759e-02,  3.05267181e-02,\n",
       "       -4.49359138e-03,  3.19181420e-02, -4.11877371e-02,  3.01791299e-02,\n",
       "       -7.52945151e-03,  7.22184358e-03,  1.49289714e-02, -5.21209266e-04,\n",
       "        1.06493467e-02,  4.27918620e-02,  9.02528875e-03, -2.49420740e-02,\n",
       "        3.20278928e-02, -1.54346554e-02,  2.21118331e-02,  1.28586115e-02,\n",
       "        3.49743804e-03,  6.74700271e-03, -5.39740874e-03, -1.51293939e-02,\n",
       "       -5.28733097e-02, -1.14575704e-03,  2.71367934e-02,  3.03356107e-02,\n",
       "       -3.24994442e-03,  1.52574452e-02,  2.93903914e-03, -2.85602156e-02,\n",
       "       -9.84232500e-03, -2.05147471e-02,  1.44189951e-04, -2.70025874e-03,\n",
       "       -6.60528662e-03, -9.07901451e-02,  3.22316103e-02, -9.61277541e-03,\n",
       "       -1.15660876e-02, -4.35088165e-02, -6.05397439e-03,  5.33558168e-02,\n",
       "        3.46818008e-02, -5.45269996e-03, -3.38034797e-03,  7.85942301e-02,\n",
       "        4.24579605e-02,  2.55770683e-02, -1.46948909e-02, -3.73485275e-02,\n",
       "       -1.20555162e-02, -2.91119199e-02, -2.69568600e-02,  3.77742909e-02,\n",
       "        7.48060585e-04, -1.34691456e-02,  1.87906697e-02,  1.77152455e-02,\n",
       "       -1.50771057e-02,  1.99335671e-04,  4.38174158e-02, -3.88370529e-02,\n",
       "        1.58732233e-03,  1.78821962e-02, -1.77353993e-02, -3.53969331e-03,\n",
       "        1.37665616e-02,  1.67396739e-02, -1.17535768e-02,  2.46294718e-02,\n",
       "        2.03049816e-02, -2.01109704e-02, -3.15122344e-02, -1.10018449e-02,\n",
       "       -9.43703111e-03,  1.31515451e-02, -2.59186961e-02, -2.13333778e-02,\n",
       "        3.33848782e-02,  1.33030256e-02,  3.66065204e-02,  3.55239809e-02,\n",
       "        4.86846501e-03, -4.40461241e-04, -6.35098759e-03, -6.82904269e-04,\n",
       "       -1.66746173e-02, -2.90177744e-02,  1.66908633e-02,  3.08433804e-03,\n",
       "        1.67709701e-02, -2.92784907e-02,  1.74782835e-02, -9.08141863e-03,\n",
       "        1.53289931e-02,  6.38535013e-03, -3.58237699e-02,  3.76590006e-02,\n",
       "       -3.88967246e-02,  4.38992260e-03,  4.94112866e-03, -1.50474953e-02,\n",
       "       -7.75877095e-04, -1.08080907e-02,  3.02314223e-03,  1.92476008e-02,\n",
       "       -1.78841613e-02,  1.18174460e-02,  2.30884664e-02,  3.04588266e-02,\n",
       "        1.60447210e-02,  7.46671390e-03,  1.52604666e-03,  2.50459602e-03,\n",
       "       -4.70292233e-02,  2.28686742e-02,  2.07590815e-02, -3.69345956e-02,\n",
       "       -1.62482238e-03, -3.27493697e-02, -1.20162899e-02,  1.29800560e-02,\n",
       "       -1.52034676e-02, -2.70972587e-02,  4.80984617e-03,  7.47231767e-03,\n",
       "       -2.84027737e-02, -5.71857300e-03,  2.80331019e-02,  2.03007367e-02,\n",
       "        2.80371830e-02,  2.70049870e-02,  1.05601912e-02, -3.47370207e-02,\n",
       "       -2.77592428e-02, -1.08251600e-02, -2.47496292e-02, -6.22502016e-03,\n",
       "        2.17245147e-03,  3.49364802e-03,  2.87069157e-02, -2.43506804e-02,\n",
       "        1.89235378e-02,  9.29362886e-03,  2.24473514e-02,  7.20773358e-03,\n",
       "        3.50164101e-02,  1.42503041e-03, -3.81125067e-03,  1.90884322e-02,\n",
       "        2.30348986e-02,  7.93611724e-03, -1.61628034e-02, -9.98706091e-04,\n",
       "       -3.18791643e-02,  3.45486104e-02,  3.96278724e-02, -2.97809504e-02,\n",
       "       -4.40255553e-02,  1.47772152e-02,  2.61718966e-02, -7.14233983e-03,\n",
       "       -3.60460393e-03,  1.09489420e-02,  1.51581764e-02,  2.70603434e-03,\n",
       "       -8.69344175e-03, -1.01290718e-02, -3.64055322e-03,  2.78800493e-04,\n",
       "       -4.72930772e-03,  1.28761157e-02,  1.09231053e-03, -6.62055681e-04,\n",
       "       -1.25629483e-02, -1.34996185e-03, -9.93485376e-03,  2.25969125e-03,\n",
       "       -3.49496566e-02,  4.74960078e-03, -2.48665847e-02, -2.08843406e-02,\n",
       "       -1.46285994e-02,  1.82828158e-02,  2.17346139e-02, -2.04865672e-02,\n",
       "        1.07839582e-02,  1.40358713e-02,  2.70608738e-02,  7.85174686e-03,\n",
       "       -3.52975093e-02, -3.99728753e-02, -3.64604071e-02,  3.73716257e-03,\n",
       "        1.42047694e-02, -1.07307434e-02, -1.03923557e-02,  3.68586415e-03,\n",
       "       -1.99752208e-02,  2.28602216e-02, -8.67396779e-03,  1.17468499e-02,\n",
       "        2.15333328e-02,  1.95942400e-03, -7.89217744e-03,  3.50207649e-02,\n",
       "        2.62970403e-02,  6.87311776e-03,  3.12094297e-02, -4.44042590e-03,\n",
       "       -2.15046369e-02, -2.54708491e-02,  2.73139887e-02, -4.13226224e-02,\n",
       "        2.88780895e-03,  1.31240359e-03, -3.34711596e-02,  1.58027746e-02,\n",
       "        4.15281355e-02, -4.59471196e-02,  5.44677256e-03,  1.07163684e-02,\n",
       "        4.29623201e-02, -2.65668202e-02,  1.02258092e-02, -7.47168995e-03,\n",
       "        1.21610137e-02,  2.56306194e-02,  5.42823598e-02,  1.38671910e-02,\n",
       "        2.39236485e-02, -7.52372714e-03,  3.73996096e-03, -4.10731584e-02,\n",
       "       -2.13998444e-02,  2.56346725e-02, -9.15559102e-03,  9.72891320e-03,\n",
       "       -4.49916394e-03,  9.50630102e-03,  3.79957585e-03, -1.22694112e-02,\n",
       "        9.76601802e-03,  1.32601643e-02,  1.03486115e-02, -1.42204920e-02,\n",
       "        2.20500361e-02,  5.75512939e-04, -1.53114507e-02, -1.50053510e-02],\n",
       "      dtype=float32)"
      ]
     },
     "execution_count": 82,
     "metadata": {},
     "output_type": "execute_result"
    }
   ],
   "source": [
    "image_embeddings = model.encode(data[\"result\"][\"articles\"][0][\"image_url\"], normalize_embeddings=True)\n",
    "\n",
    "image_embeddings"
   ]
  },
  {
   "cell_type": "markdown",
   "id": "d4416d70-041d-4de5-b76a-fb83bb1a7f1e",
   "metadata": {},
   "source": [
    "## Storing\n",
    "\n",
    "Now we need somewhere to store them. Qdrant is a perfect solution, we'll run it locally with [docker](https://docs.docker.com/engine/install/) and [docker compose](https://docs.docker.com/compose/).\n",
    "\n",
    "Assuming you have it on your system; we create a `docker-compose.yml` file\n",
    "\n",
    "```yml\n",
    "version: \"3.8\"\n",
    "\n",
    "services:\n",
    "  qdrant:\n",
    "    image: qdrant/qdrant:latest\n",
    "    ports:\n",
    "      - \"6333:6333\"\n",
    "      - \"6334:6334\"\n",
    "    volumes:\n",
    "      - ./qdrant_storage:/qdrant/storage:z\n",
    "\n",
    "```\n",
    "\n",
    "Then, simply\n",
    "\n",
    "```bash\n",
    "docker compose up -d\n",
    "```\n",
    "\n",
    "This will spin up qdrant, it also comes with a very nice ui accessible at `http://localhost:6333/dashboard#/collections` in which you can see your data.\n",
    "\n",
    "### Initialize the database\n",
    "\n",
    "We need to create a collection, we'll also use quantization to speed up things and save storage. You can read more on [qdrant doc](https://qdrant.tech/documentation/guides/quantization/) and `cosine` similarity to search. Also, we will keep the quantized vector in ram, speeding up things as well."
   ]
  },
  {
   "cell_type": "code",
   "execution_count": 114,
   "id": "c26e6854-916a-4e27-bb2c-b1c5cedadbf9",
   "metadata": {},
   "outputs": [
    {
     "name": "stderr",
     "output_type": "stream",
     "text": [
      "Unclosed client session\n",
      "client_session: <aiohttp.client.ClientSession object at 0x3736979d0>\n"
     ]
    }
   ],
   "source": [
    "from qdrant_client import QdrantClient, models\n",
    "import numpy as np\n",
    "\n",
    "QDRANT_COLLECTION_NAME = \"clothes\"\n",
    "QDRANT_URL = \"http://localhost:6333\"\n",
    "\n",
    "# defining qdrant client\n",
    "client = QdrantClient(url=QDRANT_URL)\n",
    "\n",
    "# checking if we haven't created the collection already\n",
    "if not client.collection_exists(QDRANT_COLLECTION_NAME):\n",
    "    print(f\"{QDRANT_COLLECTION_NAME} created!\")\n",
    "    client.create_collection(\n",
    "        collection_name=QDRANT_COLLECTION_NAME,\n",
    "        vectors_config=models.VectorParams(\n",
    "            size=EMBEDDING_SIZE, distance=models.Distance.COSINE, on_disk=True\n",
    "        ),\n",
    "        quantization_config=models.ScalarQuantization(\n",
    "            scalar=models.ScalarQuantizationConfig(\n",
    "                type=models.ScalarType.INT8,\n",
    "                quantile=0.99,\n",
    "                always_ram=True,\n",
    "            ),\n",
    "        ),\n",
    "    )"
   ]
  },
  {
   "cell_type": "markdown",
   "id": "7c52c7e0-81ad-4508-aa57-02af1dfd3f03",
   "metadata": {},
   "source": [
    "We want to process our data in batches, to take advantage of the model and the network with qdrant."
   ]
  },
  {
   "cell_type": "code",
   "execution_count": 62,
   "id": "bc9fc43f-7233-4778-a5ac-1bdf1932e4e1",
   "metadata": {
    "scrolled": true
   },
   "outputs": [
    {
     "name": "stderr",
     "output_type": "stream",
     "text": [
      "Article Collections: 0it [00:00, ?it/s]\n",
      "Processing Batches:   0%|                                                                                                         | 0/4 [00:00<?, ?it/s]\u001b[A\n",
      "Processing Batches:  25%|████████████████████████▎                                                                        | 1/4 [00:05<00:15,  5.22s/it]\u001b[A\n",
      "Processing Batches:  50%|████████████████████████████████████████████████▌                                                | 2/4 [00:09<00:09,  4.80s/it]\u001b[A\n",
      "Processing Batches:  75%|████████████████████████████████████████████████████████████████████████▊                        | 3/4 [00:14<00:04,  4.92s/it]\u001b[A\n",
      "Processing Batches: 100%|█████████████████████████████████████████████████████████████████████████████████████████████████| 4/4 [00:17<00:00,  4.17s/it]\u001b[A\n",
      "Article Collections: 1it [00:17, 17.82s/it]                                                                                                             \u001b[A\n",
      "Processing Batches:   0%|                                                                                                         | 0/5 [00:00<?, ?it/s]\u001b[A\n",
      "Processing Batches:  20%|███████████████████▍                                                                             | 1/5 [00:04<00:19,  4.85s/it]\u001b[A\n",
      "Processing Batches:  40%|██████████████████████████████████████▊                                                          | 2/5 [00:09<00:13,  4.65s/it]\u001b[A\n",
      "Processing Batches:  60%|██████████████████████████████████████████████████████████▏                                      | 3/5 [00:13<00:09,  4.54s/it]\u001b[A\n",
      "Processing Batches:  80%|█████████████████████████████████████████████████████████████████████████████▌                   | 4/5 [00:18<00:04,  4.48s/it]\u001b[A\n",
      "Processing Batches: 100%|█████████████████████████████████████████████████████████████████████████████████████████████████| 5/5 [00:20<00:00,  3.56s/it]\u001b[A\n",
      "Article Collections: 2it [00:37, 19.14s/it]                                                                                                             \u001b[A\n",
      "Processing Batches:   0%|                                                                                                         | 0/3 [00:00<?, ?it/s]\u001b[A\n",
      "Processing Batches:  33%|████████████████████████████████▎                                                                | 1/3 [00:04<00:08,  4.44s/it]\u001b[A\n",
      "Processing Batches:  67%|████████████████████████████████████████████████████████████████▋                                | 2/3 [00:09<00:04,  4.69s/it]\u001b[A\n",
      "Processing Batches: 100%|█████████████████████████████████████████████████████████████████████████████████████████████████| 3/3 [00:14<00:00,  4.70s/it]\u001b[A\n",
      "Article Collections: 3it [00:51, 16.81s/it]                                                                                                             \u001b[A\n",
      "Processing Batches:   0%|                                                                                                         | 0/4 [00:00<?, ?it/s]\u001b[A\n",
      "Processing Batches:  25%|████████████████████████▎                                                                        | 1/4 [00:05<00:16,  5.52s/it]\u001b[A\n",
      "Processing Batches:  50%|████████████████████████████████████████████████▌                                                | 2/4 [00:11<00:12,  6.06s/it]\u001b[A\n",
      "Processing Batches:  75%|████████████████████████████████████████████████████████████████████████▊                        | 3/4 [00:17<00:05,  5.81s/it]\u001b[A\n",
      "Processing Batches: 100%|█████████████████████████████████████████████████████████████████████████████████████████████████| 4/4 [00:22<00:00,  5.44s/it]\u001b[A\n",
      "Article Collections: 4it [01:14, 18.99s/it]                                                                                                             \u001b[A\n",
      "Processing Batches:   0%|                                                                                                         | 0/5 [00:00<?, ?it/s]\u001b[A\n",
      "Processing Batches:  20%|███████████████████▍                                                                             | 1/5 [00:04<00:17,  4.37s/it]\u001b[A\n",
      "Processing Batches:  40%|██████████████████████████████████████▊                                                          | 2/5 [00:08<00:13,  4.43s/it]\u001b[A\n",
      "Processing Batches:  60%|██████████████████████████████████████████████████████████▏                                      | 3/5 [00:14<00:09,  4.82s/it]\u001b[A\n",
      "Processing Batches:  80%|█████████████████████████████████████████████████████████████████████████████▌                   | 4/5 [00:18<00:04,  4.71s/it]\u001b[A\n",
      "Processing Batches: 100%|█████████████████████████████████████████████████████████████████████████████████████████████████| 5/5 [00:19<00:00,  3.38s/it]\u001b[A\n",
      "Article Collections: 5it [01:33, 19.25s/it]                                                                                                             \u001b[A\n",
      "Processing Batches:   0%|                                                                                                         | 0/4 [00:00<?, ?it/s]\u001b[A\n",
      "Processing Batches:  25%|████████████████████████▎                                                                        | 1/4 [00:04<00:13,  4.50s/it]\u001b[A\n",
      "Processing Batches:  50%|████████████████████████████████████████████████▌                                                | 2/4 [00:09<00:09,  4.57s/it]\u001b[A\n",
      "Processing Batches:  75%|████████████████████████████████████████████████████████████████████████▊                        | 3/4 [00:13<00:04,  4.60s/it]\u001b[A\n",
      "Processing Batches: 100%|█████████████████████████████████████████████████████████████████████████████████████████████████| 4/4 [00:14<00:00,  3.01s/it]\u001b[A\n",
      "Article Collections: 6it [01:48, 17.58s/it]                                                                                                             \u001b[A\n",
      "Processing Batches:   0%|                                                                                                         | 0/4 [00:00<?, ?it/s]\u001b[A\n",
      "Processing Batches:  25%|████████████████████████▎                                                                        | 1/4 [00:04<00:13,  4.61s/it]\u001b[A\n",
      "Processing Batches:  50%|████████████████████████████████████████████████▌                                                | 2/4 [00:09<00:09,  4.58s/it]\u001b[A\n",
      "Processing Batches:  75%|████████████████████████████████████████████████████████████████████████▊                        | 3/4 [00:15<00:05,  5.47s/it]\u001b[A\n",
      "Processing Batches: 100%|█████████████████████████████████████████████████████████████████████████████████████████████████| 4/4 [00:18<00:00,  4.53s/it]\u001b[A\n",
      "Article Collections: 7it [02:07, 17.97s/it]                                                                                                             \u001b[A\n",
      "Processing Batches:   0%|                                                                                                         | 0/4 [00:00<?, ?it/s]\u001b[A\n",
      "Processing Batches:  25%|████████████████████████▎                                                                        | 1/4 [00:05<00:15,  5.02s/it]\u001b[A\n",
      "Processing Batches:  50%|████████████████████████████████████████████████▌                                                | 2/4 [00:09<00:09,  4.82s/it]\u001b[A\n",
      "Processing Batches:  75%|████████████████████████████████████████████████████████████████████████▊                        | 3/4 [00:15<00:05,  5.43s/it]\u001b[A\n",
      "Processing Batches: 100%|█████████████████████████████████████████████████████████████████████████████████████████████████| 4/4 [00:17<00:00,  3.85s/it]\u001b[A\n",
      "Article Collections: 8it [02:24, 17.75s/it]                                                                                                             \u001b[A\n",
      "Processing Batches:   0%|                                                                                                         | 0/3 [00:00<?, ?it/s]\u001b[A\n",
      "Processing Batches:  33%|████████████████████████████████▎                                                                | 1/3 [00:04<00:08,  4.33s/it]\u001b[A\n",
      "Article Collections: 8it [02:32, 19.07s/it]                                                                                                             \u001b[A\n"
     ]
    },
    {
     "ename": "IndexError",
     "evalue": "list index out of range",
     "output_type": "error",
     "traceback": [
      "\u001b[31m---------------------------------------------------------------------------\u001b[39m",
      "\u001b[31mIndexError\u001b[39m                                Traceback (most recent call last)",
      "\u001b[36mCell\u001b[39m\u001b[36m \u001b[39m\u001b[32mIn[62]\u001b[39m\u001b[32m, line 32\u001b[39m\n\u001b[32m     30\u001b[39m \u001b[38;5;28;01mfor\u001b[39;00m i \u001b[38;5;129;01min\u001b[39;00m pbar_batches:\n\u001b[32m     31\u001b[39m     batch = articles[i:i + BATCH_SIZE]\n\u001b[32m---> \u001b[39m\u001b[32m32\u001b[39m     embeddings = \u001b[43membed_articles\u001b[49m\u001b[43m(\u001b[49m\u001b[43mbatch\u001b[49m\u001b[43m)\u001b[49m\n\u001b[32m     33\u001b[39m     insert_articles_in_db(batch, embeddings)        \n",
      "\u001b[36mCell\u001b[39m\u001b[36m \u001b[39m\u001b[32mIn[62]\u001b[39m\u001b[32m, line 7\u001b[39m, in \u001b[36membed_articles\u001b[39m\u001b[34m(data)\u001b[39m\n\u001b[32m      5\u001b[39m \u001b[38;5;28;01mdef\u001b[39;00m\u001b[38;5;250m \u001b[39m\u001b[34membed_articles\u001b[39m(data):\n\u001b[32m      6\u001b[39m     image_urls = [el[\u001b[33m\"\u001b[39m\u001b[33mimage_url\u001b[39m\u001b[33m\"\u001b[39m] \u001b[38;5;28;01mfor\u001b[39;00m el \u001b[38;5;129;01min\u001b[39;00m batch]\n\u001b[32m----> \u001b[39m\u001b[32m7\u001b[39m     image_embeddings = \u001b[43mmodel\u001b[49m\u001b[43m.\u001b[49m\u001b[43mencode\u001b[49m\u001b[43m(\u001b[49m\n\u001b[32m      8\u001b[39m \u001b[43m            \u001b[49m\u001b[43mimage_urls\u001b[49m\u001b[43m,\u001b[49m\u001b[43m \u001b[49m\u001b[43mnormalize_embeddings\u001b[49m\u001b[43m=\u001b[49m\u001b[38;5;28;43;01mTrue\u001b[39;49;00m\n\u001b[32m      9\u001b[39m \u001b[43m        \u001b[49m\u001b[43m)\u001b[49m\n\u001b[32m     10\u001b[39m     \u001b[38;5;28;01mreturn\u001b[39;00m image_embeddings\n",
      "\u001b[36mFile \u001b[39m\u001b[32m~/Documents/scrapegraph-qdrant-article/.venv/lib/python3.13/site-packages/torch/utils/_contextlib.py:120\u001b[39m, in \u001b[36mcontext_decorator.<locals>.decorate_context\u001b[39m\u001b[34m(*args, **kwargs)\u001b[39m\n\u001b[32m    117\u001b[39m \u001b[38;5;129m@functools\u001b[39m.wraps(func)\n\u001b[32m    118\u001b[39m \u001b[38;5;28;01mdef\u001b[39;00m\u001b[38;5;250m \u001b[39m\u001b[34mdecorate_context\u001b[39m(*args, **kwargs):\n\u001b[32m    119\u001b[39m     \u001b[38;5;28;01mwith\u001b[39;00m ctx_factory():\n\u001b[32m--> \u001b[39m\u001b[32m120\u001b[39m         \u001b[38;5;28;01mreturn\u001b[39;00m \u001b[43mfunc\u001b[49m\u001b[43m(\u001b[49m\u001b[43m*\u001b[49m\u001b[43margs\u001b[49m\u001b[43m,\u001b[49m\u001b[43m \u001b[49m\u001b[43m*\u001b[49m\u001b[43m*\u001b[49m\u001b[43mkwargs\u001b[49m\u001b[43m)\u001b[49m\n",
      "\u001b[36mFile \u001b[39m\u001b[32m~/Documents/scrapegraph-qdrant-article/.venv/lib/python3.13/site-packages/sentence_transformers/SentenceTransformer.py:1091\u001b[39m, in \u001b[36mSentenceTransformer.encode\u001b[39m\u001b[34m(self, sentences, prompt_name, prompt, batch_size, show_progress_bar, output_value, precision, convert_to_numpy, convert_to_tensor, device, normalize_embeddings, truncate_dim, pool, chunk_size, **kwargs)\u001b[39m\n\u001b[32m   1087\u001b[39m                 embeddings = embeddings.cpu()\n\u001b[32m   1089\u001b[39m         all_embeddings.extend(embeddings)\n\u001b[32m-> \u001b[39m\u001b[32m1091\u001b[39m all_embeddings = [\u001b[43mall_embeddings\u001b[49m\u001b[43m[\u001b[49m\u001b[43midx\u001b[49m\u001b[43m]\u001b[49m \u001b[38;5;28;01mfor\u001b[39;00m idx \u001b[38;5;129;01min\u001b[39;00m np.argsort(length_sorted_idx)]\n\u001b[32m   1093\u001b[39m \u001b[38;5;28;01mif\u001b[39;00m all_embeddings \u001b[38;5;129;01mand\u001b[39;00m precision \u001b[38;5;129;01mand\u001b[39;00m precision != \u001b[33m\"\u001b[39m\u001b[33mfloat32\u001b[39m\u001b[33m\"\u001b[39m:\n\u001b[32m   1094\u001b[39m     all_embeddings = quantize_embeddings(all_embeddings, precision=precision)\n",
      "\u001b[31mIndexError\u001b[39m: list index out of range"
     ]
    }
   ],
   "source": [
    "import uuid\n",
    "from tqdm.autonotebook import tqdm\n",
    "\n",
    "BATCH_SIZE = 8\n",
    "\n",
    "\n",
    "def embed_articles(data: dict) -> np.array:\n",
    "    image_urls = [el[\"image_url\"] for el in batch]\n",
    "    image_embeddings = model.encode(\n",
    "            image_urls, normalize_embeddings=True\n",
    "        )\n",
    "    return image_embeddings       "
   ]
  },
  {
   "cell_type": "markdown",
   "id": "b8e478d9-baa7-4283-9069-4d1d602ecb86",
   "metadata": {},
   "source": [
    "### Inserting in the database\n",
    "\n",
    "Then, we can create a function to insert them into the db. We'll also store the dictionary itself, we can pass it to the `payload` method."
   ]
  },
  {
   "cell_type": "code",
   "execution_count": null,
   "id": "083e489e-2940-4fa4-9cbb-f469f7b97676",
   "metadata": {},
   "outputs": [],
   "source": [
    "def insert_articles_in_db(batch: list[dict], embeddings: np.array):\n",
    "    client.upsert(\n",
    "        collection_name=QDRANT_COLLECTION_NAME,\n",
    "        points=[\n",
    "            models.PointStruct(\n",
    "                id=str(uuid.uuid4()),\n",
    "                vector=vector,\n",
    "                payload=payload\n",
    "            )\n",
    "            for payload, vector in zip(batch, embeddings)\n",
    "        ],\n",
    "    )"
   ]
  },
  {
   "cell_type": "markdown",
   "id": "6be76e61-0e99-4a4b-87f6-ec6a8f96c8c8",
   "metadata": {},
   "source": [
    "Putting it all together, we'll check if the have points in the collection; if so we'll assume we run it already"
   ]
  },
  {
   "cell_type": "code",
   "execution_count": 122,
   "id": "46507155-9e40-4559-b190-d89a04c9bcaf",
   "metadata": {},
   "outputs": [
    {
     "name": "stdout",
     "output_type": "stream",
     "text": [
      "Collection=clothes not empty. Exiting ...\n"
     ]
    }
   ],
   "source": [
    "def store_to_vector_db():\n",
    "    shold_insert = client.count(QDRANT_COLLECTION_NAME).count == 0\n",
    "    if not shold_insert: \n",
    "        print(f\"Collection={QDRANT_COLLECTION_NAME} not empty. Exiting ...\")\n",
    "        return\n",
    "    with tqdm(articles_gen, desc=\"Article Collections\", position=0) as pbar_collections:\n",
    "        for articles in pbar_collections:\n",
    "            batches = list(range(0, len(articles), BATCH_SIZE))\n",
    "            with tqdm(batches, desc=\"Processing Batches\", position=1, leave=False) as pbar_batches:\n",
    "                for i in pbar_batches:\n",
    "                    batch = articles[i:i + BATCH_SIZE]\n",
    "                    embeddings = embed_articles(batch)\n",
    "                    insert_articles_in_db(batch, embeddings)\n",
    "\n",
    "store_to_vector_db()"
   ]
  },
  {
   "cell_type": "markdown",
   "id": "c12e05b8-4df6-4f4b-a282-d5967cf7a884",
   "metadata": {},
   "source": [
    "We can head over the [qdrant ui](http://localhost:6333/dashboard#/collections/clothes) to see our data\n",
    "\n",
    "![alt](images/sgai-qdrant-frontend.gif)"
   ]
  },
  {
   "cell_type": "markdown",
   "id": "d4ec4e25-be06-42e5-8946-a12c6297b177",
   "metadata": {},
   "source": [
    "It also comes with a very cool dimension reduction tab; to explore our data even further!\n",
    "\n",
    "![alt](images/sgai-qdrant-frontend-embeddings.gif)"
   ]
  },
  {
   "cell_type": "markdown",
   "id": "fdf12b32-a7d7-489b-9f3e-9eb8a45e0693",
   "metadata": {},
   "source": [
    "### Searching\n",
    "\n",
    "We can now search 🥳! With either a text query or an image"
   ]
  },
  {
   "cell_type": "code",
   "execution_count": 123,
   "id": "91f52e84-02ba-49f6-a017-66a02568be01",
   "metadata": {},
   "outputs": [
    {
     "name": "stderr",
     "output_type": "stream",
     "text": [
      "/var/folders/_t/kq5v2mjs6c90llk5bdqhgndc0000gn/T/ipykernel_6181/2776768032.py:8: DeprecationWarning: `search` method is deprecated and will be removed in the future. Use `query_points` instead.\n",
      "  res = client.search(\n"
     ]
    },
    {
     "data": {
      "text/plain": [
       "[ScoredPoint(id='ab1f69a0-4fd0-4bce-b2ef-d01f708fc786', version=8, score=0.3037891, payload={'name': 'LeePERFECT TEE - T-shirt basic - unionall black', 'brand': 'Lee', 'description': 'T-shirt nera in cotone a maniche corte, con scollatura a girocollo e una vestibilità leggermente ampia, abbinata a jeans azzurri chiari con spacchi laterali.', 'price': 29.95, 'review_score': 0, 'url': 'https://www.zalando.it/lee-perfect-t-shirt-basic-unionall-black-le421d08n-q11.html', 'image_url': 'https://img01.ztat.net/article/spp-media-p1/51e721ff461a4bf5af1ea9817f8c2b58/19645bcfdfec4d8bac250cea5a4a051b.jpg?imwidth=300'}, vector=None, shard_key=None, order_value=None),\n",
       " ScoredPoint(id='93230ebc-05d2-430a-a5bf-13df6279f2b9', version=17, score=0.25808161, payload={'name': 'Calliope Jeans a sigaretta', 'brand': 'Calliope', 'description': '', 'price': 35.99, 'review_score': 0, 'url': 'https://www.zalando.it/calliope-jeans-a-sigaretta-nero-denim-csm21n062-q11.html', 'image_url': 'https://img01.ztat.net/article/spp-media-p1/ae1d7db5039c43b3b1aedfdbe72c5fc0/2d07663124c14a6b8c842503f3468235.jpg?imwidth=300'}, vector=None, shard_key=None, order_value=None),\n",
       " ScoredPoint(id='b779405a-6e45-4ac6-a2b1-65c9f338c9f0', version=4, score=0.24658957, payload={'name': 'Tommy Jeans MOM - Jeans mom fit - denim black', 'brand': 'Tommy Jeans', 'description': 'T-shirt bianca in cotone con logo rosso \"tommy jeans\", abbinata a pantaloni neri e una giacca di pelle nera. Sneakers bianche completano il look.', 'price': 64.99, 'review_score': 0, 'url': 'https://www.zalando.it/tommy-jeans-mom-jeans-baggy-denim-black-tob21n0tq-q11.html', 'image_url': 'https://img01.ztat.net/article/spp-media-p1/91c74d136e8d470cbebf8f9d6afb7b5b/db59f4efc20347919e0e1a2148aeb986.jpg?imwidth=300'}, vector=None, shard_key=None, order_value=None),\n",
       " ScoredPoint(id='e66cab2d-e0fa-4ea1-91e5-e69e6b4b7586', version=10, score=0.24387194, payload={'name': 'Stradivarius WITH RHINESTONES - Jeans baggy - mottled light grey', 'brand': 'Stradivarius', 'description': 'No content available', 'price': 49.99, 'review_score': 0, 'url': 'https://www.zalando.it/stradivarius-jeans-a-sigaretta-mottled-light-grey-sth21n0om-c11.html', 'image_url': 'https://img01.ztat.net/article/spp-media-p1/249d670066a34cbf9f2d6e3d5a782cf2/8b8e300ac87747c7b92aac6d81ff7a96.jpg?imwidth=300'}, vector=None, shard_key=None, order_value=None)]"
      ]
     },
     "execution_count": 123,
     "metadata": {},
     "output_type": "execute_result"
    }
   ],
   "source": [
    "query = 't-shirt black'\n",
    "# call the model to embed the query\n",
    "query_embeddings = model.encode(\n",
    "    query, prompt_name='retrieval.query', normalize_embeddings=True\n",
    "    \n",
    ")  \n",
    "# getting results\n",
    "res = client.search(\n",
    "        collection_name=QDRANT_COLLECTION_NAME,\n",
    "        query_vector=query_embeddings.tolist(),\n",
    "        limit=4,\n",
    "    )\n",
    "\n",
    "res"
   ]
  },
  {
   "cell_type": "markdown",
   "id": "a007bfe0-b97f-4074-8b68-1a8582a84090",
   "metadata": {},
   "source": [
    "Let's define a function to show the results"
   ]
  },
  {
   "cell_type": "code",
   "execution_count": 127,
   "id": "6ad8b53e-a0cc-4572-9eca-95130225dfec",
   "metadata": {},
   "outputs": [
    {
     "data": {
      "text/html": [
       "<div style='display:grid;grid-template-columns:repeat(4,1fr);gap:10px;'><img src='https://img01.ztat.net/article/spp-media-p1/51e721ff461a4bf5af1ea9817f8c2b58/19645bcfdfec4d8bac250cea5a4a051b.jpg?imwidth=300' style='width:100%;height:200px;object-fit:cover;border:1px solid #ddd;'><img src='https://img01.ztat.net/article/spp-media-p1/ae1d7db5039c43b3b1aedfdbe72c5fc0/2d07663124c14a6b8c842503f3468235.jpg?imwidth=300' style='width:100%;height:200px;object-fit:cover;border:1px solid #ddd;'><img src='https://img01.ztat.net/article/spp-media-p1/91c74d136e8d470cbebf8f9d6afb7b5b/db59f4efc20347919e0e1a2148aeb986.jpg?imwidth=300' style='width:100%;height:200px;object-fit:cover;border:1px solid #ddd;'><img src='https://img01.ztat.net/article/spp-media-p1/249d670066a34cbf9f2d6e3d5a782cf2/8b8e300ac87747c7b92aac6d81ff7a96.jpg?imwidth=300' style='width:100%;height:200px;object-fit:cover;border:1px solid #ddd;'></div>"
      ],
      "text/plain": [
       "<IPython.core.display.HTML object>"
      ]
     },
     "metadata": {},
     "output_type": "display_data"
    }
   ],
   "source": [
    "from IPython.display import display, HTML\n",
    "\n",
    "def show_images(res):\n",
    "    html = \"<div style='display:grid;grid-template-columns:repeat(4,1fr);gap:10px;'>\"\n",
    "    for result in res:\n",
    "        html += f\"<img src='{result.payload['image_url']}' style='width:100%;height:200px;object-fit:cover;border:1px solid #ddd;'>\"\n",
    "    html += \"</div>\"\n",
    "    display(HTML(html))\n",
    "\n",
    "show_images(res)"
   ]
  },
  {
   "cell_type": "code",
   "execution_count": 130,
   "id": "3e8a0cc5-532d-46a8-a146-1d09477cf0e5",
   "metadata": {},
   "outputs": [
    {
     "name": "stderr",
     "output_type": "stream",
     "text": [
      "/var/folders/_t/kq5v2mjs6c90llk5bdqhgndc0000gn/T/ipykernel_6181/1374654977.py:9: DeprecationWarning: `search` method is deprecated and will be removed in the future. Use `query_points` instead.\n",
      "  res = client.search(\n"
     ]
    },
    {
     "data": {
      "text/html": [
       "<img src=\"https://d1fufvy4xao6k9.cloudfront.net/images/landings/43/shirts-mob-1.jpg\" width=\"400\"/>"
      ],
      "text/plain": [
       "<IPython.core.display.Image object>"
      ]
     },
     "execution_count": 130,
     "metadata": {},
     "output_type": "execute_result"
    }
   ],
   "source": [
    "# or using either a pil image or a url\n",
    "from IPython.display import Image, display\n",
    "image_url = \"https://d1fufvy4xao6k9.cloudfront.net/images/landings/43/shirts-mob-1.jpg\"\n",
    "# call the model to embed the query\n",
    "query_embeddings = model.encode(\n",
    "            image_url, normalize_embeddings=True\n",
    "        )\n",
    "# getting results\n",
    "res = client.search(\n",
    "        collection_name=QDRANT_COLLECTION_NAME,\n",
    "        query_vector=query_embeddings.tolist(),\n",
    "        limit=4,\n",
    "    )\n",
    "\n",
    "Image(url=image_url, width=400)"
   ]
  },
  {
   "cell_type": "code",
   "execution_count": 131,
   "id": "f6f09ecc-1060-4236-9207-e3f57b4c3477",
   "metadata": {},
   "outputs": [
    {
     "data": {
      "text/html": [
       "<div style='display:grid;grid-template-columns:repeat(4,1fr);gap:10px;'><img src='https://img01.ztat.net/article/spp-media-p1/13f14ab6cacc4f33aea6cfadb0fac207/7aef5c18accf478d860a3331103b73f6.jpg?imwidth=300' style='width:100%;height:200px;object-fit:cover;border:1px solid #ddd;'><img src='https://img01.ztat.net/article/spp-media-p1/7677dca00ac64142bbd7f40a123fa9f1/5e505f360e094ad89fe394ac376261a8.jpg?imwidth=300' style='width:100%;height:200px;object-fit:cover;border:1px solid #ddd;'><img src='https://img01.ztat.net/article/spp-media-p1/d1d3b10d972747edb8f0820108654c09/c48761ba8f78492cb1e44d629c0532b9.jpg?imwidth=300' style='width:100%;height:200px;object-fit:cover;border:1px solid #ddd;'><img src='https://img01.ztat.net/article/spp-media-p1/62cfd75b7e634ec2809e0ab7f808adce/5b6ee869474b4268a5c7982548c69e2e.jpg' style='width:100%;height:200px;object-fit:cover;border:1px solid #ddd;'></div>"
      ],
      "text/plain": [
       "<IPython.core.display.HTML object>"
      ]
     },
     "metadata": {},
     "output_type": "display_data"
    }
   ],
   "source": [
    "show_images(res)"
   ]
  },
  {
   "cell_type": "markdown",
   "id": "56105822-4300-4870-a244-211ce6f2c518",
   "metadata": {},
   "source": [
    "## Conclusion\n",
    "\n",
    "So we show how to scrape, embed and search using both text and images items from zalando. We could expand it further by actually scraping more data and implement a re-ranker to show up results that are really relevant to the query - but I'll leave it to you here :)"
   ]
  },
  {
   "cell_type": "code",
   "execution_count": null,
   "id": "576bd185-5b0b-4c0b-b510-5a9b4ec4c1ce",
   "metadata": {},
   "outputs": [],
   "source": []
  },
  {
   "cell_type": "code",
   "execution_count": null,
   "id": "7e52f2f2-75ab-4a87-b856-2c6aa0001671",
   "metadata": {},
   "outputs": [],
   "source": []
  },
  {
   "cell_type": "code",
   "execution_count": null,
   "id": "3b72e216-6b1b-4b55-b530-f94ee2e731fa",
   "metadata": {},
   "outputs": [],
   "source": []
  }
 ],
 "metadata": {
  "kernelspec": {
   "display_name": "Python 3 (ipykernel)",
   "language": "python",
   "name": "python3"
  },
  "language_info": {
   "codemirror_mode": {
    "name": "ipython",
    "version": 3
   },
   "file_extension": ".py",
   "mimetype": "text/x-python",
   "name": "python",
   "nbconvert_exporter": "python",
   "pygments_lexer": "ipython3",
   "version": "3.13.2"
  }
 },
 "nbformat": 4,
 "nbformat_minor": 5
}
